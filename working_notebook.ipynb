{
 "cells": [
  {
   "attachments": {},
   "cell_type": "markdown",
   "metadata": {},
   "source": [
    "This is the setup cell"
   ]
  },
  {
   "cell_type": "code",
   "execution_count": 1,
   "metadata": {},
   "outputs": [],
   "source": [
    "import datetime\n",
    "import pathlib\n",
    "import time\n",
    "import math\n",
    "\n",
    "import obspy\n",
    "from obspy.signal import PPSD\n",
    "import scipy\n",
    "import matplotlib.pyplot as plt\n",
    "\n",
    "#Run this line if you want interactive plots\n",
    "%matplotlib qt\n",
    "\n",
    "import numpy as np\n",
    "\n",
    "import sprit"
   ]
  },
  {
   "cell_type": "code",
   "execution_count": 1,
   "metadata": {},
   "outputs": [],
   "source": [
    "import sprit\n",
    "\n",
    "sprit.gui()"
   ]
  },
  {
   "cell_type": "code",
   "execution_count": 4,
   "metadata": {},
   "outputs": [
    {
     "name": "stdout",
     "output_type": "stream",
     "text": [
      "No metadata file specified!\n",
      "Using default metadata file for Raspberry Shake v.7 contained in repository at\n",
      " c:/Users/riley/LocalData/Github/SPRIT/resources/raspshake_metadata.inv\n"
     ]
    }
   ],
   "source": [
    "dPath = r'\\\\isgs-sinkhole.ad.uillinois.edu\\geophysics\\HVSR\\LakeCalumet\\LC_RaspShake'\n",
    "#dPath = r'\\\\isgs-sinkhole.ad.uillinois.edu\\geophysics\\HVSR\\LakeCalumet\\LC_RaspShake\\Test12_AM.RAC84.00.2023-02-15_2132-2200.mseed'\n",
    "trimDir = r'\\\\isgs-sinkhole.ad.uillinois.edu\\geophysics\\HVSR\\LakeCalumet\\LC_RaspShake'\n",
    "#dPath = r\"\\\\isgs-sinkhole.ad.uillinois.edu\\geophysics\\HVSR\\ChampaignCo\\Mahomet2023\\Data\\RawData\"\n",
    "#dPath = r\"C:\\Users\\riley\\OneDrive - University of Illinois - Urbana\\Data_OneDrive\\Seismic\\HVSR\\Data\\RAC84\"\n",
    "#dPath = r\"C:\\Users\\riley\\OneDrive - University of Illinois - Urbana\\Data_OneDrive\\Seismic\\HVSR\\Data\\UOFI1_AM.RAC84.00.2023-02-15_1704-1734.mseed\"\n",
    "dPath = r\"\\\\isgs-sinkhole.ad.uillinois.edu\\geophysics\\HVSR\\LakeCalumet\\LC_RaspShake\\Test_AM.RAC84.00.2023-02-15_2132-2200.mseed\"\n",
    "\n",
    "params = sprit.input_param( acq_date='2023-02-15',\n",
    "                            #starttime = obspy.UTCDateTime('2023-02-06T21:32:00.00'),\n",
    "                            #endtime = obspy.UTCDateTime('2023-02-06T22:00:00.00'),\n",
    "                            tzone = 'UTC',#or 'local', #or 'UTC'\n",
    "                            dst=False,\n",
    "                            lon = -88.2290526,\n",
    "                            lat =  40.1012122,\n",
    "                            elevation = 755,\n",
    "                            site = 'HVSR Site',\n",
    "                            dataPath = dPath\n",
    "                            )"
   ]
  },
  {
   "cell_type": "code",
   "execution_count": 5,
   "metadata": {},
   "outputs": [
    {
     "name": "stderr",
     "output_type": "stream",
     "text": [
      "c:\\ProgramData\\Anaconda3\\envs\\seismic39\\lib\\site-packages\\obspy\\core\\inventory\\network.py:251: UserWarning: Found more than one matching response. Returning first.\n",
      "  warnings.warn(msg)\n"
     ]
    }
   ],
   "source": [
    "params = sprit.get_metadata(params)\n",
    "params = sprit.fetch_data(params=params, source='file')"
   ]
  },
  {
   "cell_type": "code",
   "execution_count": 6,
   "metadata": {},
   "outputs": [
    {
     "name": "stderr",
     "output_type": "stream",
     "text": [
      "c:\\ProgramData\\Anaconda3\\envs\\seismic39\\lib\\site-packages\\obspy\\signal\\trigger.py:183: UserWarning: Warning: converting a masked element to nan.\n",
      "  data = np.ascontiguousarray(data, dtype=np.float64)\n"
     ]
    }
   ],
   "source": [
    "params = sprit.remove_noise(input=params, kind='auto')"
   ]
  },
  {
   "cell_type": "code",
   "execution_count": 7,
   "metadata": {},
   "outputs": [],
   "source": [
    "params = sprit.generate_ppsds(params=params, stream=params['stream'], ppsd_length=60, \n",
    "                              overlap=0.5, period_step_octaves=0.01, remove_outliers=True, outlier_std=1.5)"
   ]
  },
  {
   "cell_type": "code",
   "execution_count": 8,
   "metadata": {},
   "outputs": [],
   "source": [
    "hvsr_dict = sprit.process_hvsr(params=params, method=4, resample=True, smooth=3, remove_outlier_curves=True)\n",
    "hvsr_dict = sprit.check_peaks(hvsr_dict=hvsr_dict)"
   ]
  },
  {
   "cell_type": "code",
   "execution_count": 9,
   "metadata": {},
   "outputs": [],
   "source": [
    "sprit.hvplot(hvsr_dict, kind='hvsr p tp ann', cmap='turbo')"
   ]
  },
  {
   "cell_type": "code",
   "execution_count": 10,
   "metadata": {},
   "outputs": [
    {
     "name": "stdout",
     "output_type": "stream",
     "text": [
      "\\\\isgs-sinkhole.ad.uillinois.edu\\geophysics\\HVSR\\LakeCalumet\\LC_RaspShake\\Test_AM.RAC84.00.2023-02-15_2132-2200.csv\n"
     ]
    },
    {
     "data": {
      "text/html": [
       "<div>\n",
       "<style scoped>\n",
       "    .dataframe tbody tr th:only-of-type {\n",
       "        vertical-align: middle;\n",
       "    }\n",
       "\n",
       "    .dataframe tbody tr th {\n",
       "        vertical-align: top;\n",
       "    }\n",
       "\n",
       "    .dataframe thead th {\n",
       "        text-align: right;\n",
       "    }\n",
       "</style>\n",
       "<table border=\"1\" class=\"dataframe\">\n",
       "  <thead>\n",
       "    <tr style=\"text-align: right;\">\n",
       "      <th></th>\n",
       "      <th>Site Name</th>\n",
       "      <th>Acqusition Date</th>\n",
       "      <th>Longitude</th>\n",
       "      <th>Latitide</th>\n",
       "      <th>Elevation</th>\n",
       "      <th>Peak Frequency</th>\n",
       "      <th>Window Length Freq.</th>\n",
       "      <th>Significant Cycles</th>\n",
       "      <th>Low Curve StDev. over time</th>\n",
       "      <th>Peak Freq. Clarity Below</th>\n",
       "      <th>Peak Freq. Clarity Above</th>\n",
       "      <th>Peak Amp. Clarity</th>\n",
       "      <th>Freq. Stability</th>\n",
       "      <th>Peak Stability (freq. std)</th>\n",
       "      <th>Peak Stability (amp. std)</th>\n",
       "      <th>Peak Passes</th>\n",
       "    </tr>\n",
       "  </thead>\n",
       "  <tbody>\n",
       "    <tr>\n",
       "      <th>0</th>\n",
       "      <td>HVSR Site</td>\n",
       "      <td>2023-02-15</td>\n",
       "      <td>-88.229053</td>\n",
       "      <td>40.101212</td>\n",
       "      <td>755</td>\n",
       "      <td>2.863</td>\n",
       "      <td>True</td>\n",
       "      <td>True</td>\n",
       "      <td>True</td>\n",
       "      <td>True</td>\n",
       "      <td>True</td>\n",
       "      <td>True</td>\n",
       "      <td>True</td>\n",
       "      <td>False</td>\n",
       "      <td>True</td>\n",
       "      <td>True</td>\n",
       "    </tr>\n",
       "  </tbody>\n",
       "</table>\n",
       "</div>"
      ],
      "text/plain": [
       "   Site Name Acqusition Date  Longitude   Latitide  Elevation  Peak Frequency  \\\n",
       "0  HVSR Site      2023-02-15 -88.229053  40.101212        755           2.863   \n",
       "\n",
       "   Window Length Freq.  Significant Cycles  Low Curve StDev. over time  \\\n",
       "0                 True                True                        True   \n",
       "\n",
       "   Peak Freq. Clarity Below  Peak Freq. Clarity Above  Peak Amp. Clarity  \\\n",
       "0                      True                      True               True   \n",
       "\n",
       "   Freq. Stability  Peak Stability (freq. std)  Peak Stability (amp. std)  \\\n",
       "0             True                       False                       True   \n",
       "\n",
       "   Peak Passes  \n",
       "0         True  "
      ]
     },
     "execution_count": 10,
     "metadata": {},
     "output_type": "execute_result"
    }
   ],
   "source": [
    "outDF = sprit.print_report(hvsr_dict, export='', format='csv', include='peak', save_figs=None)\n",
    "outDF"
   ]
  }
 ],
 "metadata": {
  "kernelspec": {
   "display_name": "seismic38",
   "language": "python",
   "name": "python3"
  },
  "language_info": {
   "codemirror_mode": {
    "name": "ipython",
    "version": 3
   },
   "file_extension": ".py",
   "mimetype": "text/x-python",
   "name": "python",
   "nbconvert_exporter": "python",
   "pygments_lexer": "ipython3",
   "version": "3.9.16"
  },
  "orig_nbformat": 4,
  "vscode": {
   "interpreter": {
    "hash": "5a23f0a09994861bb85a8bc9d7d34ce71e76c038972bbf50ab0da82ee5046d01"
   }
  }
 },
 "nbformat": 4,
 "nbformat_minor": 2
}
