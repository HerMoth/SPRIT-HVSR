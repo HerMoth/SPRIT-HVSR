{
 "cells": [
  {
   "attachments": {},
   "cell_type": "markdown",
   "metadata": {},
   "source": [
    "This is the setup cell"
   ]
  },
  {
   "cell_type": "code",
   "execution_count": 1,
   "metadata": {},
   "outputs": [],
   "source": [
    "import datetime\n",
    "import pathlib\n",
    "import time\n",
    "import math\n",
    "\n",
    "import obspy\n",
    "from obspy.signal import PPSD\n",
    "import scipy\n",
    "import matplotlib.pyplot as plt\n",
    "\n",
    "#Run this line if you want interactive plots\n",
    "%matplotlib qt\n",
    "\n",
    "import numpy as np\n",
    "\n",
    "import sprit"
   ]
  },
  {
   "cell_type": "code",
   "execution_count": 2,
   "metadata": {},
   "outputs": [
    {
     "name": "stdout",
     "output_type": "stream",
     "text": [
      "No metadata file specified!\n",
      "Using default metadata file for Raspberry Shake v.7 contained in repository at\n",
      " c:/Users/riley/LocalData/Github/SPRIT/resources/raspshake_metadata.inv\n"
     ]
    }
   ],
   "source": [
    "dPath = r'\\\\isgs-sinkhole.ad.uillinois.edu\\geophysics\\HVSR\\LakeCalumet\\LC_RaspShake'\n",
    "#dPath = r'\\\\isgs-sinkhole.ad.uillinois.edu\\geophysics\\HVSR\\LakeCalumet\\LC_RaspShake\\Test12_AM.RAC84.00.2023-02-15_2132-2200.mseed'\n",
    "trimDir = r'\\\\isgs-sinkhole.ad.uillinois.edu\\geophysics\\HVSR\\LakeCalumet\\LC_RaspShake'\n",
    "#dPath = r\"\\\\isgs-sinkhole.ad.uillinois.edu\\geophysics\\HVSR\\ChampaignCo\\Mahomet2023\\Data\\RawData\"\n",
    "dPath = r\"C:\\Users\\riley\\OneDrive - University of Illinois - Urbana\\Data_OneDrive\\Seismic\\HVSR\\Data\\RAC84\"\n",
    "dPath = r\"C:\\Users\\riley\\OneDrive - University of Illinois - Urbana\\Data_OneDrive\\Seismic\\HVSR\\Data\\UOFI1_AM.RAC84.00.2023-02-15_1704-1734.mseed\"\n",
    "\n",
    "params = sprit.input_param( acq_date='2023-02-15',\n",
    "                            #starttime = obspy.UTCDateTime('2023-02-06T21:32:00.00'),\n",
    "                            #endtime = obspy.UTCDateTime('2023-02-06T22:00:00.00'),\n",
    "                            tzone = 'UTC',#or 'local', #or 'UTC'\n",
    "                            dst=False,\n",
    "                            lon = -88.2290526,\n",
    "                            lat =  40.1012122,\n",
    "                            elevation = 755,\n",
    "                            site = 'HVSR Site',\n",
    "                            dataPath = dPath\n",
    "                            )"
   ]
  },
  {
   "cell_type": "code",
   "execution_count": 3,
   "metadata": {},
   "outputs": [
    {
     "name": "stdout",
     "output_type": "stream",
     "text": [
      "Day of Year: 46\n"
     ]
    },
    {
     "name": "stderr",
     "output_type": "stream",
     "text": [
      "c:\\ProgramData\\Anaconda3\\envs\\seismic39\\lib\\site-packages\\obspy\\core\\inventory\\network.py:251: UserWarning: Found more than one matching response. Returning first.\n",
      "  warnings.warn(msg)\n"
     ]
    }
   ],
   "source": [
    "params = sprit.get_metadata(params)\n",
    "stream = sprit.fetch_data(params=params)"
   ]
  },
  {
   "cell_type": "code",
   "execution_count": 4,
   "metadata": {},
   "outputs": [
    {
     "name": "stdout",
     "output_type": "stream",
     "text": [
      "[[19403.7164385426, 19403.717423029608], [19403.72419137778, 19403.725914230043], [19403.719925267415, 19403.721196896466]]\n",
      "19403.724888722743\n",
      "1\n",
      "[[19403.7164385426, 19403.717423029608], [19403.719925267415, 19403.721196896466]]\n",
      "[[19403.7164385426, 19403.717423029608], [19403.719925267415, 19403.721196896466]]\n",
      "19403.71664364406\n",
      "0\n",
      "[[19403.719925267415, 19403.721196896466]]\n",
      "[[19403.719925267415, 19403.721196896466]]\n",
      "19403.720909754422\n",
      "0\n",
      "[]\n",
      "[[19403.715659157053, 19403.7174640499], [19403.72419137778, 19403.725709128583]]\n",
      "19403.724929743035\n",
      "1\n",
      "[[19403.715659157053, 19403.7174640499]]\n"
     ]
    }
   ],
   "source": [
    "xwindows = sprit.select_windows(stream)"
   ]
  },
  {
   "cell_type": "code",
   "execution_count": 4,
   "metadata": {},
   "outputs": [],
   "source": [
    "params = sprit.generate_ppsds(params=params, stream=stream, ppsd_length=60, overlap=0.5, period_step_octaves=0.01)\n",
    "hvsr_dict = sprit.process_hvsr(params=params, method=4, resample=False, smooth=10)\n",
    "hvsr_dict = sprit.check_peaks(hvsr_dict=hvsr_dict)"
   ]
  },
  {
   "cell_type": "code",
   "execution_count": 5,
   "metadata": {},
   "outputs": [],
   "source": [
    "plt.ion()\n",
    "sprit.hvplot(hvsr_dict, kind='HVSR', show=True)"
   ]
  },
  {
   "cell_type": "code",
   "execution_count": 16,
   "metadata": {},
   "outputs": [],
   "source": [
    "from matplotlib.backend_bases import MouseButton\n",
    "import matplotlib.pyplot as plt\n",
    "import matplotlib\n",
    "import numpy as np\n",
    "\n",
    "#fig, ax = plt.subplots()\n",
    "\n",
    "\n",
    "fig, ax = sprit.hvplot(hvsr_dict=hvsr_dict, kind='spec', returnfig=True, cmap='turbo')\n",
    "\n",
    "clickNo = 0    \n",
    "xWindows = []\n",
    "pathList = []\n",
    "windowDrawn = []\n",
    "winArtist = []\n",
    "lineArtist = []\n",
    "\n",
    "def on_click(event, fig=fig, ax=ax):\n",
    "    if event.button is MouseButton.RIGHT:\n",
    "        remove_on_right(event)\n",
    "    if event.button is MouseButton.LEFT:\n",
    "        draw_boxes(event)\n",
    "\n",
    "def draw_boxes(event, fig=fig, ax=ax):\n",
    "    global clickNo\n",
    "    global x0\n",
    "    global xWindows\n",
    "    global pathList\n",
    "    global windowDrawn\n",
    "    global winArtist\n",
    "    global lineArtist\n",
    "\n",
    "    if event.inaxes!=ax: return\n",
    "    #y0, y1 = ax.get_ylim()\n",
    "    y0=0\n",
    "    y1=50\n",
    "    \n",
    "    if clickNo == 0:\n",
    "        #y = np.linspace(ax.get_ylim()[0], ax.get_ylim()[1], 2)\n",
    "        x0 = event.xdata\n",
    "        clickNo += 1\n",
    "        linArt = plt.axvline(x0, y0, y1, linewidth=0.5, color='k', zorder=100)\n",
    "        lineArtist.append([linArt, linArt])\n",
    "    else:\n",
    "        x1 = event.xdata\n",
    "        clickNo = 0\n",
    "\n",
    "        path_data = [\n",
    "            (matplotlib.path.Path.MOVETO, (x0, y0)),\n",
    "            (matplotlib.path.Path.LINETO, (x1, y0)),\n",
    "            (matplotlib.path.Path.LINETO, (x1, y1)),\n",
    "            (matplotlib.path.Path.LINETO, (x0, y1)),\n",
    "            (matplotlib.path.Path.LINETO, (x0, y0)),\n",
    "            (matplotlib.path.Path.CLOSEPOLY, (x0, y0)),\n",
    "        ]\n",
    "\n",
    "        codes, verts = zip(*path_data)\n",
    "        path = matplotlib.path.Path(verts, codes)\n",
    "\n",
    "        x_win = [x0, x1]\n",
    "        xWindows.append(x_win)\n",
    "        pathList.append(path)\n",
    "        windowDrawn.append(False)\n",
    "        winArtist.append(None)\n",
    "        [lineArtist[-1].pop()]\n",
    "        draw_windows(event=event, pathlist=pathList)\n",
    "        linArt = plt.axvline(x1, y0, y1, color='k',linewidth=0.5, zorder=100)\n",
    "        lineArtist[-1].append(linArt)\n",
    "    fig.canvas.draw() \n",
    "\n",
    "def draw_windows(event, pathlist, fig=fig, ax=ax):\n",
    "    for i, p in enumerate(pathList):\n",
    "        if windowDrawn[i]:\n",
    "            pass\n",
    "        else:\n",
    "            patch = matplotlib.patches.PathPatch(p, facecolor='k', alpha=0.75)\n",
    "            winArt = ax.add_patch(patch)\n",
    "            windowDrawn[i] = True\n",
    "            winArtist[i] = winArt\n",
    "    if event.button is MouseButton.RIGHT:\n",
    "        fig.canvas.draw() \n",
    "\n",
    "def remove_on_right(event, fig=fig, ax=ax, xWindows=xWindows):\n",
    "    if xWindows is not None:\n",
    "        for i, xWins in enumerate(xWindows):\n",
    "            if event.xdata > xWins[0] and event.xdata < xWins[1]:\n",
    "                xWindows.pop(i)\n",
    "                pathList.pop(i)\n",
    "                winArtist[i].remove()\n",
    "                winArtist.pop(i)\n",
    "                windowDrawn.pop(i)\n",
    "                lineArtist[i][0].remove()\n",
    "                lineArtist[i][1].remove()\n",
    "                lineArtist.pop(i)\n",
    "    fig.canvas.draw() \n",
    "    #draw_windows(event, pathlist=pathList)\n",
    "\n",
    "fig.canvas.mpl_connect('button_press_event', on_click)\n",
    "plt.show()"
   ]
  }
 ],
 "metadata": {
  "kernelspec": {
   "display_name": "seismic38",
   "language": "python",
   "name": "python3"
  },
  "language_info": {
   "codemirror_mode": {
    "name": "ipython",
    "version": 3
   },
   "file_extension": ".py",
   "mimetype": "text/x-python",
   "name": "python",
   "nbconvert_exporter": "python",
   "pygments_lexer": "ipython3",
   "version": "3.9.16"
  },
  "orig_nbformat": 4,
  "vscode": {
   "interpreter": {
    "hash": "5a23f0a09994861bb85a8bc9d7d34ce71e76c038972bbf50ab0da82ee5046d01"
   }
  }
 },
 "nbformat": 4,
 "nbformat_minor": 2
}
