{
 "cells": [
  {
   "attachments": {},
   "cell_type": "markdown",
   "metadata": {},
   "source": [
    "This is the setup cell"
   ]
  },
  {
   "cell_type": "code",
   "execution_count": 2,
   "metadata": {},
   "outputs": [],
   "source": [
    "import datetime\n",
    "import pathlib\n",
    "import time\n",
    "import math\n",
    "\n",
    "import obspy\n",
    "from obspy.signal import PPSD\n",
    "import scipy\n",
    "import matplotlib.pyplot as plt\n",
    "\n",
    "#Run this line if you want interactive plots\n",
    "%matplotlib qt\n",
    "\n",
    "import numpy as np\n",
    "\n",
    "import sprit"
   ]
  },
  {
   "cell_type": "code",
   "execution_count": 3,
   "metadata": {},
   "outputs": [
    {
     "name": "stdout",
     "output_type": "stream",
     "text": [
      "No metadata file specified!\n",
      "Using default metadata file for Raspberry Shake v.7 contained in repository at\n",
      " c:/Users/riley/LocalData/Github/SPRIT/resources/raspshake_metadata.inv\n"
     ]
    }
   ],
   "source": [
    "dPath = r'\\\\isgs-sinkhole.ad.uillinois.edu\\geophysics\\HVSR\\LakeCalumet\\LC_RaspShake\\TestDir'\n",
    "#dPath = r'\\\\isgs-sinkhole.ad.uillinois.edu\\geophysics\\HVSR\\LakeCalumet\\LC_RaspShake\\Test12_AM.RAC84.00.2023-02-15_2132-2200.mseed'\n",
    "trimDir = r'\\\\isgs-sinkhole.ad.uillinois.edu\\geophysics\\HVSR\\LakeCalumet\\LC_RaspShake'\n",
    "\n",
    "params = sprit.input_param(  acq_date=46,#'2023-02-15',\n",
    "                            #starttime = '21:32:00.00',\n",
    "                            #endtime = '22:00:00.00',\n",
    "                            tzone = 'UTC',#or 'local', #or 'UTC'\n",
    "                            dst=False,\n",
    "                            lon = -88.2290526,\n",
    "                            lat =  40.1012122,\n",
    "                            elevation = 755,\n",
    "                            site = 'HVSR Site',\n",
    "                            dataPath = dPath\n",
    "                            )"
   ]
  },
  {
   "cell_type": "code",
   "execution_count": 4,
   "metadata": {},
   "outputs": [
    {
     "name": "stdout",
     "output_type": "stream",
     "text": [
      "Day of Year: 46\n"
     ]
    },
    {
     "name": "stderr",
     "output_type": "stream",
     "text": [
      "c:\\ProgramData\\Anaconda3\\envs\\seismic39\\lib\\site-packages\\obspy\\core\\inventory\\network.py:251: UserWarning: Found more than one matching response. Returning first.\n",
      "  warnings.warn(msg)\n"
     ]
    }
   ],
   "source": [
    "params = sprit.get_metadata(params)\n",
    "stream = sprit.fetch_data(params, source='dir', trim_dir=trimDir)\n",
    "params = sprit.generate_ppsds(params=params, stream=stream, ppsd_length=60, overlap=0.5, period_step_octaves=0.01)\n",
    "hvsr_dict = sprit.process_hvsr(params=params, method=4, resample=False, smooth=10)\n",
    "hvsr_dict = sprit.check_peaks(hvsr_dict=hvsr_dict)"
   ]
  },
  {
   "cell_type": "code",
   "execution_count": 5,
   "metadata": {},
   "outputs": [],
   "source": [
    "plt.ion()\n",
    "sprit.hvplot(hvsr_dict, kind='HVSR', show=True)"
   ]
  },
  {
   "cell_type": "code",
   "execution_count": 7,
   "metadata": {},
   "outputs": [
    {
     "name": "stdout",
     "output_type": "stream",
     "text": [
      "x0:  -0.03718429347461606\n",
      "x1:  0.0039061766481121307\n",
      "482\n",
      "1039\n",
      "Path(array([[ 4.820e+02, -5.500e-02],\n",
      "       [ 1.039e+03, -5.500e-02],\n",
      "       [ 1.039e+03,  5.500e-02],\n",
      "       [ 4.820e+02,  5.500e-02],\n",
      "       [ 4.820e+02, -5.500e-02],\n",
      "       [ 4.820e+02, -5.500e-02]]), array([ 1,  2,  2,  2,  2, 79], dtype=uint8))\n"
     ]
    }
   ],
   "source": [
    "from matplotlib import pyplot as plt\n",
    "import matplotlib\n",
    "\n",
    "class WindowBuilder:\n",
    "    def __init__(, window):\n",
    "        self.x0 = 0\n",
    "        x1 = 1\n",
    "        y0 = ax.get_ylim()[0]\n",
    "        y1 = ax.get_ylim()[1]\n",
    "        window = window\n",
    "        self.paths = []\n",
    "        self.vertices = [] \n",
    "        self.codes = []#window.get_paths()[0].codes\n",
    "        \n",
    "        #self.xs = list(window.get_xdata())\n",
    "        #self.ys = list(window.get_ydata()) #may not need\n",
    "        self.cid = window.figure.canvas.mpl_connect('button_press_event', self)\n",
    "        self.clickNo = 0\n",
    "\n",
    "    def __call__(self, event):\n",
    "        if event.inaxes!=self.window.axes: return\n",
    "        ax = event.inaxes\n",
    "        self.y0 = ax.get_ylim()[0]\n",
    "        self.y1 = ax.get_ylim()[1]\n",
    "        if self.clickNo == 0:\n",
    "            #y = np.linspace(ax.get_ylim()[0], ax.get_ylim()[1], 2)\n",
    "            self.x0 = event.x\n",
    "            self.clickNo += 1\n",
    "            plt.axvline(self.x0, self.y0, self.y1, color='k')\n",
    "            print('x0: ', event.xdata)\n",
    "        else:\n",
    "            self.x1 = event.x\n",
    "            self.clickNo == 0\n",
    "            plt.axvline(self.x0, self.y0, self.y1, color='k')\n",
    "            print('x1: ', event.xdata)\n",
    "            print(self.x0)\n",
    "            print(self.x1)\n",
    "            path_data = [\n",
    "                (matplotlib.path.Path.MOVETO, (self.x0, self.y0)),\n",
    "                (matplotlib.path.Path.LINETO, (self.x1, self.y0)),\n",
    "                (matplotlib.path.Path.LINETO, (self.x1, self.y1)),\n",
    "                (matplotlib.path.Path.LINETO, (self.x0, self.y1)),\n",
    "                (matplotlib.path.Path.LINETO, (self.x0, self.y0)),\n",
    "                (matplotlib.path.Path.CLOSEPOLY, (self.x0, self.y0)),\n",
    "            ]\n",
    "            codes, verts = zip(*path_data)\n",
    "            path = matplotlib.path.Path(verts, codes)\n",
    "            self.paths.append(path)\n",
    "            for p in self.paths:\n",
    "                print(p)\n",
    "                patch = matplotlib.patches.PathPatch(p, facecolor='r', alpha=0.5)\n",
    "                ax.add_patch(patch)\n",
    "                plt.show()\n",
    "            self.window.figure.canvas.draw()\n",
    "\n",
    "fig, ax = plt.subplots()\n",
    "ax.set_title('click to build line segments')\n",
    "y = np.linspace(ax.get_ylim()[0], ax.get_ylim()[1], 1)\n",
    "window = ax.fill_betweenx(y, [0], [0])\n",
    "#print(window.get_paths()[0])\n",
    "#line, = ax.plot([0], [0])  # empty line\n",
    "linebuilder = WindowBuilder(window)\n",
    "\n",
    "plt.show()"
   ]
  },
  {
   "cell_type": "code",
   "execution_count": 32,
   "metadata": {},
   "outputs": [
    {
     "name": "stdout",
     "output_type": "stream",
     "text": [
      "0\n",
      "1\n",
      "0\n",
      "1\n",
      "0\n",
      "1\n",
      "[<matplotlib.patches.PathPatch object at 0x00000209E0DC8D00>, <matplotlib.patches.PathPatch object at 0x00000209E1358820>]\n",
      "[<matplotlib.patches.PathPatch object at 0x00000209E0DC8D00>]\n",
      "[]\n"
     ]
    }
   ],
   "source": [
    "from matplotlib.backend_bases import MouseButton\n",
    "import matplotlib.pyplot as plt\n",
    "import matplotlib\n",
    "import numpy as np\n",
    "\n",
    "fig, ax = plt.subplots()\n",
    "def plotfunc():\n",
    "    t = np.arange(0.0, 1.0, 0.01)\n",
    "    s = np.sin(2 * np.pi * t)\n",
    "    ax.plot(t, s)\n",
    "plotfunc()\n",
    "\n",
    "clickNo = 0    \n",
    "xWindows = []\n",
    "pathList = []\n",
    "windowDrawn = []\n",
    "winArtist = []\n",
    "lineArtist = []\n",
    "\n",
    "def on_click(event, fig=fig, ax=ax):\n",
    "    if event.button is MouseButton.RIGHT:\n",
    "        remove_on_right(event)\n",
    "    if event.button is MouseButton.LEFT:\n",
    "        draw_boxes(event)\n",
    "\n",
    "def draw_boxes(event, fig=fig, ax=ax):\n",
    "    global clickNo\n",
    "    global x0\n",
    "    global xWindows\n",
    "    global pathList\n",
    "    global windowDrawn\n",
    "    global winArtist\n",
    "    global lineArtist\n",
    "\n",
    "    if event.inaxes!=ax: return\n",
    "    print(clickNo)\n",
    "    y0, y1 = ax.get_ylim()\n",
    "    \n",
    "    if clickNo == 0:\n",
    "        #y = np.linspace(ax.get_ylim()[0], ax.get_ylim()[1], 2)\n",
    "        x0 = event.xdata\n",
    "        clickNo += 1\n",
    "        linArt = plt.axvline(x0, y0, y1, color='k')\n",
    "        lineArtist.append([linArt, linArt])\n",
    "    else:\n",
    "        x1 = event.xdata\n",
    "        clickNo = 0\n",
    "\n",
    "        path_data = [\n",
    "            (matplotlib.path.Path.MOVETO, (x0, y0)),\n",
    "            (matplotlib.path.Path.LINETO, (x1, y0)),\n",
    "            (matplotlib.path.Path.LINETO, (x1, y1)),\n",
    "            (matplotlib.path.Path.LINETO, (x0, y1)),\n",
    "            (matplotlib.path.Path.LINETO, (x0, y0)),\n",
    "            (matplotlib.path.Path.CLOSEPOLY, (x0, y0)),\n",
    "        ]\n",
    "\n",
    "        codes, verts = zip(*path_data)\n",
    "        path = matplotlib.path.Path(verts, codes)\n",
    "\n",
    "        x_win = [x0, x1]\n",
    "        xWindows.append(x_win)\n",
    "        pathList.append(path)\n",
    "        windowDrawn.append(False)\n",
    "        winArtist.append(None)\n",
    "        [lineArtist[-1].pop()]\n",
    "        draw_windows(event=event, pathlist=pathList)\n",
    "        linArt = plt.axvline(x1, y0, y1, color='k', zorder=100)\n",
    "        lineArtist[-1].append(linArt)\n",
    "    fig.canvas.draw() \n",
    "\n",
    "def draw_windows(event, pathlist, fig=fig, ax=ax):\n",
    "    for i, p in enumerate(pathList):\n",
    "        if windowDrawn[i]:\n",
    "            pass\n",
    "        else:\n",
    "            patch = matplotlib.patches.PathPatch(p, facecolor='k', alpha=0.5)\n",
    "            winArt = ax.add_patch(patch)\n",
    "            windowDrawn[i] = True\n",
    "            winArtist[i] = winArt\n",
    "    if event.button is MouseButton.RIGHT:\n",
    "        fig.canvas.draw() \n",
    "\n",
    "def remove_on_right(event, fig=fig, ax=ax, xWindows=xWindows):\n",
    "    if xWindows is not None:\n",
    "        for i, xWins in enumerate(xWindows):\n",
    "            if event.xdata > xWins[0] and event.xdata < xWins[1]:\n",
    "                xWindows.pop(i)\n",
    "                pathList.pop(i)\n",
    "                winArtist[i].remove()\n",
    "                winArtist.pop(i)\n",
    "                windowDrawn.pop(i)\n",
    "                lineArtist[i][0].remove()\n",
    "                lineArtist[i][1].remove()\n",
    "                lineArtist.pop(i)\n",
    "    fig.canvas.draw() \n",
    "    print(winArtist)\n",
    "    #draw_windows(event, pathlist=pathList)\n",
    "\n",
    "fig.canvas.mpl_connect('button_press_event', on_click)\n",
    "plt.show()"
   ]
  },
  {
   "cell_type": "code",
   "execution_count": 86,
   "metadata": {},
   "outputs": [],
   "source": [
    "import matplotlib.pyplot as plt\n",
    "\n",
    "fig, ax = plt.subplots()\n",
    "artists = []\n",
    "\n",
    "# add some artists to the plot\n",
    "for i in range(3):\n",
    "    line, = ax.plot([0, 1], [i, i])\n",
    "    artists.append(line)\n",
    "\n",
    "# remove all artists from the plot\n",
    "for artist in artists:\n",
    "    artist.remove()\n",
    "\n",
    "# update the plot\n",
    "fig.canvas.draw()"
   ]
  }
 ],
 "metadata": {
  "kernelspec": {
   "display_name": "seismic39",
   "language": "python",
   "name": "python3"
  },
  "language_info": {
   "codemirror_mode": {
    "name": "ipython",
    "version": 3
   },
   "file_extension": ".py",
   "mimetype": "text/x-python",
   "name": "python",
   "nbconvert_exporter": "python",
   "pygments_lexer": "ipython3",
   "version": "3.9.16"
  },
  "orig_nbformat": 4,
  "vscode": {
   "interpreter": {
    "hash": "7c120aa60d7f787329d7fe6326c774a0cc90fc6232bbda68784db4098da7c49a"
   }
  }
 },
 "nbformat": 4,
 "nbformat_minor": 2
}
