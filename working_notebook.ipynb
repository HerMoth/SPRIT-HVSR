{
 "cells": [
  {
   "attachments": {},
   "cell_type": "markdown",
   "metadata": {},
   "source": [
    "This is the setup cell"
   ]
  },
  {
   "cell_type": "code",
   "execution_count": 1,
   "metadata": {},
   "outputs": [
    {
     "ename": "ModuleNotFoundError",
     "evalue": "No module named 'obspy'",
     "output_type": "error",
     "traceback": [
      "\u001b[1;31m---------------------------------------------------------------------------\u001b[0m",
      "\u001b[1;31mModuleNotFoundError\u001b[0m                       Traceback (most recent call last)",
      "Cell \u001b[1;32mIn[1], line 6\u001b[0m\n\u001b[0;32m      3\u001b[0m \u001b[39mimport\u001b[39;00m \u001b[39mtime\u001b[39;00m\n\u001b[0;32m      4\u001b[0m \u001b[39mimport\u001b[39;00m \u001b[39mmath\u001b[39;00m\n\u001b[1;32m----> 6\u001b[0m \u001b[39mimport\u001b[39;00m \u001b[39mobspy\u001b[39;00m\n\u001b[0;32m      7\u001b[0m \u001b[39mfrom\u001b[39;00m \u001b[39mobspy\u001b[39;00m\u001b[39m.\u001b[39;00m\u001b[39msignal\u001b[39;00m \u001b[39mimport\u001b[39;00m PPSD\n\u001b[0;32m      8\u001b[0m \u001b[39mimport\u001b[39;00m \u001b[39mscipy\u001b[39;00m\n",
      "\u001b[1;31mModuleNotFoundError\u001b[0m: No module named 'obspy'"
     ]
    }
   ],
   "source": [
    "import datetime\n",
    "import pathlib\n",
    "import time\n",
    "import math\n",
    "\n",
    "import obspy\n",
    "from obspy.signal import PPSD\n",
    "import scipy\n",
    "import matplotlib.pyplot as plt\n",
    "import matplotlib\n",
    "#Run this line if you want interactive plots\n",
    "%matplotlib qt\n",
    "import numpy as np\n",
    "\n",
    "import sprit"
   ]
  },
  {
   "cell_type": "code",
   "execution_count": 42,
   "metadata": {},
   "outputs": [
    {
     "name": "stdout",
     "output_type": "stream",
     "text": [
      "2023-05-16 02:55:00\n"
     ]
    },
    {
     "ename": "TypeError",
     "evalue": "DstTzInfo.utcoffset() missing 1 required positional argument: 'dt'",
     "output_type": "error",
     "traceback": [
      "\u001b[1;31m---------------------------------------------------------------------------\u001b[0m",
      "\u001b[1;31mTypeError\u001b[0m                                 Traceback (most recent call last)",
      "Cell \u001b[1;32mIn[42], line 14\u001b[0m\n\u001b[0;32m     11\u001b[0m local_tz \u001b[39m=\u001b[39m pytz\u001b[39m.\u001b[39mtimezone(tz)\n\u001b[0;32m     13\u001b[0m \u001b[39m# get the UTC offset as a timedelta object\u001b[39;00m\n\u001b[1;32m---> 14\u001b[0m utc_offset \u001b[39m=\u001b[39m local_tz\u001b[39m.\u001b[39;49mutcoffset()\u001b[39m.\u001b[39mtotal_seconds()\u001b[39m/\u001b[39m\u001b[39m60\u001b[39m\u001b[39m/\u001b[39m\u001b[39m60\u001b[39m\n\u001b[0;32m     15\u001b[0m utc_offset\n",
      "\u001b[1;31mTypeError\u001b[0m: DstTzInfo.utcoffset() missing 1 required positional argument: 'dt'"
     ]
    }
   ],
   "source": [
    "import datetime\n",
    "import pytz\n",
    "\n",
    "# create a datetime object\n",
    "dt = datetime.datetime(2023, 5, 15, 22, 0, 0)\n",
    "\n",
    "dt1 = dt + datetime.timedelta(hours=5, minutes=-5)\n",
    "print(dt1)\n",
    "tz = 'US/Central'\n",
    "\n",
    "local_tz = pytz.timezone(tz)\n",
    "\n",
    "# get the UTC offset as a timedelta object\n",
    "utc_offset = local_tz.utcoffset().total_seconds()/60/60\n",
    "utc_offset"
   ]
  },
  {
   "cell_type": "code",
   "execution_count": 2,
   "metadata": {},
   "outputs": [],
   "source": [
    "import sprit\n",
    "\n",
    "sprit.gui()"
   ]
  },
  {
   "cell_type": "code",
   "execution_count": 6,
   "metadata": {},
   "outputs": [
    {
     "name": "stdout",
     "output_type": "stream",
     "text": [
      "No metadata file specified!\n",
      "Using default metadata file for Raspberry Shake v.7 contained in repository at\n",
      " c:/Users/riley/LocalData/Code/Github/SPRIT/resources/raspshake_metadata.inv\n"
     ]
    }
   ],
   "source": [
    "dPath = r'\\\\isgs-sinkhole.ad.uillinois.edu\\geophysics\\HVSR\\LakeCalumet\\LC_RaspShake'\n",
    "#dPath = r'\\\\isgs-sinkhole.ad.uillinois.edu\\geophysics\\HVSR\\LakeCalumet\\LC_RaspShake\\Test12_AM.RAC84.00.2023-02-15_2132-2200.mseed'\n",
    "trimDir = r'\\\\isgs-sinkhole.ad.uillinois.edu\\geophysics\\HVSR\\LakeCalumet\\LC_RaspShake'\n",
    "#dPath = r\"\\\\isgs-sinkhole.ad.uillinois.edu\\geophysics\\HVSR\\ChampaignCo\\Mahomet2023\\Data\\RawData\"\n",
    "dPath = r\"C:\\Users\\riley\\OneDrive - University of Illinois - Urbana\\Data_OneDrive\\Seismic\\HVSR\\Data\\RAC84\"\n",
    "dPath = r\"C:\\Users\\riley\\OneDrive - University of Illinois - Urbana\\Data_OneDrive\\Seismic\\HVSR\\Data\\UOFI1_AM.RAC84.00.2023-02-15_1704-1734.mseed\"\n",
    "\n",
    "dPath = r\"\\\\isgs-sinkhole.ad.uillinois.edu\\geophysics\\HVSR\\LakeCalumet\\LC_RaspShake\\HVSR Site_AM.RAC84.00.2023.046_2023-02-15_1704-1734.mseed\"\n",
    "\n",
    "trimDir = r'\\\\isgs-sinkhole.ad.uillinois.edu\\geophysics\\HVSR\\InstrumentTest_PoleBarn\\RaspShake_PoleBarn\\data\\processed_data'\n",
    "\n",
    "params = sprit.input_param(dataPath=dPath, acq_date='2023-02-15', site='PoleBarn1', starttime='17:04', endtime='17:34')"
   ]
  },
  {
   "cell_type": "code",
   "execution_count": 7,
   "metadata": {},
   "outputs": [
    {
     "name": "stderr",
     "output_type": "stream",
     "text": [
      "c:\\Users\\riley\\LocalData\\Code\\Github\\SPRIT\\.venv\\lib\\site-packages\\obspy\\core\\inventory\\network.py:251: UserWarning: Found more than one matching response. Returning first.\n",
      "  warnings.warn(msg)\n"
     ]
    }
   ],
   "source": [
    "params = sprit.get_metadata(params)\n",
    "params = sprit.fetch_data(params=params, source='file', trim_dir=trimDir)"
   ]
  },
  {
   "cell_type": "code",
   "execution_count": 22,
   "metadata": {},
   "outputs": [
    {
     "data": {
      "text/plain": [
       "3 Trace(s) in Stream:\n",
       "AM.RAC84.00.EHE | 2023-04-25T17:11:59.999999Z - 2023-04-25T17:31:59.999999Z | 100.0 Hz, 120001 samples\n",
       "AM.RAC84.00.EHN | 2023-04-25T17:11:59.999999Z - 2023-04-25T17:31:59.999999Z | 100.0 Hz, 120001 samples\n",
       "AM.RAC84.00.EHZ | 2023-04-25T17:11:59.999999Z - 2023-04-25T17:31:59.999999Z | 100.0 Hz, 120001 samples"
      ]
     },
     "execution_count": 22,
     "metadata": {},
     "output_type": "execute_result"
    }
   ],
   "source": [
    "stream = params['stream'].copy()\n",
    "stream"
   ]
  },
  {
   "cell_type": "code",
   "execution_count": 10,
   "metadata": {},
   "outputs": [
    {
     "name": "stderr",
     "output_type": "stream",
     "text": [
      "c:\\Users\\riley\\LocalData\\Code\\Github\\SPRIT\\.venv\\lib\\site-packages\\obspy\\signal\\trigger.py:183: UserWarning: Warning: converting a masked element to nan.\n",
      "  data = np.ascontiguousarray(data, dtype=np.float64)\n"
     ]
    }
   ],
   "source": [
    "params = sprit.remove_noise(input=params, kind='manual')\n",
    "params = sprit.remove_noise(input=params, kind='auto')"
   ]
  },
  {
   "cell_type": "code",
   "execution_count": 11,
   "metadata": {},
   "outputs": [],
   "source": [
    "params = sprit.generate_ppsds(params=params, stream=params['stream'], ppsd_length=60, \n",
    "                              overlap=0.5, period_step_octaves=0.01, remove_outliers=True, outlier_std=1.5)"
   ]
  },
  {
   "cell_type": "code",
   "execution_count": 12,
   "metadata": {},
   "outputs": [
    {
     "name": "stdout",
     "output_type": "stream",
     "text": [
      "No frequency smoothing is being applied. This is not recommended for noisy datasets.\n"
     ]
    }
   ],
   "source": [
    "hvsr_dict = sprit.process_hvsr(params=params, method=4, resample=True, smooth=3, freq_smooth=False, f_smooth_width=10, remove_outlier_curves=True)\n",
    "hvsr_dict = sprit.check_peaks(hvsr_dict=hvsr_dict)"
   ]
  },
  {
   "cell_type": "code",
   "execution_count": 21,
   "metadata": {},
   "outputs": [],
   "source": [
    "sprit.hvplot(hvsr_dict, kind='hvsr p c+ spec', cmap='turbo', peak_plot=False)"
   ]
  },
  {
   "cell_type": "code",
   "execution_count": 28,
   "metadata": {},
   "outputs": [],
   "source": [
    "reportDF = sprit.print_report(hvsr_dict, format='csv')"
   ]
  },
  {
   "cell_type": "code",
   "execution_count": 29,
   "metadata": {},
   "outputs": [
    {
     "data": {
      "text/html": [
       "<div>\n",
       "<style scoped>\n",
       "    .dataframe tbody tr th:only-of-type {\n",
       "        vertical-align: middle;\n",
       "    }\n",
       "\n",
       "    .dataframe tbody tr th {\n",
       "        vertical-align: top;\n",
       "    }\n",
       "\n",
       "    .dataframe thead th {\n",
       "        text-align: right;\n",
       "    }\n",
       "</style>\n",
       "<table border=\"1\" class=\"dataframe\">\n",
       "  <thead>\n",
       "    <tr style=\"text-align: right;\">\n",
       "      <th></th>\n",
       "      <th>Site Name</th>\n",
       "      <th>Acqusition Date</th>\n",
       "      <th>Longitude</th>\n",
       "      <th>Latitide</th>\n",
       "      <th>Elevation</th>\n",
       "      <th>Peak Frequency</th>\n",
       "      <th>Window Length Freq.</th>\n",
       "      <th>Significant Cycles</th>\n",
       "      <th>Low Curve StDev. over time</th>\n",
       "      <th>Peak Freq. Clarity Below</th>\n",
       "      <th>Peak Freq. Clarity Above</th>\n",
       "      <th>Peak Amp. Clarity</th>\n",
       "      <th>Freq. Stability</th>\n",
       "      <th>Peak Stability (freq. std)</th>\n",
       "      <th>Peak Stability (amp. std)</th>\n",
       "      <th>Peak Passes</th>\n",
       "    </tr>\n",
       "  </thead>\n",
       "  <tbody>\n",
       "    <tr>\n",
       "      <th>0</th>\n",
       "      <td>PoleBarn1</td>\n",
       "      <td>2023-02-15</td>\n",
       "      <td>-88.229053</td>\n",
       "      <td>40.101212</td>\n",
       "      <td>755</td>\n",
       "      <td>2.863</td>\n",
       "      <td>True</td>\n",
       "      <td>True</td>\n",
       "      <td>True</td>\n",
       "      <td>True</td>\n",
       "      <td>True</td>\n",
       "      <td>True</td>\n",
       "      <td>True</td>\n",
       "      <td>False</td>\n",
       "      <td>True</td>\n",
       "      <td>True</td>\n",
       "    </tr>\n",
       "  </tbody>\n",
       "</table>\n",
       "</div>"
      ],
      "text/plain": [
       "   Site Name Acqusition Date  Longitude   Latitide  Elevation  Peak Frequency   \n",
       "0  PoleBarn1      2023-02-15 -88.229053  40.101212        755           2.863  \\\n",
       "\n",
       "   Window Length Freq.  Significant Cycles  Low Curve StDev. over time   \n",
       "0                 True                True                        True  \\\n",
       "\n",
       "   Peak Freq. Clarity Below  Peak Freq. Clarity Above  Peak Amp. Clarity   \n",
       "0                      True                      True               True  \\\n",
       "\n",
       "   Freq. Stability  Peak Stability (freq. std)  Peak Stability (amp. std)   \n",
       "0             True                       False                       True  \\\n",
       "\n",
       "   Peak Passes  \n",
       "0         True  "
      ]
     },
     "execution_count": 29,
     "metadata": {},
     "output_type": "execute_result"
    }
   ],
   "source": [
    "reportDF"
   ]
  },
  {
   "cell_type": "code",
   "execution_count": 22,
   "metadata": {},
   "outputs": [
    {
     "data": {
      "text/plain": [
       "{'f0': 2.8634016737292933,\n",
       " 'A0': 7.118030915960885,\n",
       " 'f-': '     0.720 ✔',\n",
       " 'f+': '    11.382 ✔',\n",
       " 'Sf': 0.17725842209862042,\n",
       " 'Sa': 0.028491814897743148,\n",
       " 'Score': 5,\n",
       " 'Report': {'Lw': '2.863 > 10 / 60  ✔',\n",
       "  'Nc': '6872.0 > 200  ✔',\n",
       "  'σ_A(f)': 'σ_A for all freqs 1.432-5.727 < 2  ✔',\n",
       "  'A(f-)': 'A(0.72): 1.77 < 3.559  ✔',\n",
       "  'A(f+)': 'A(11.382): 1.741 < 3.559  ✔',\n",
       "  'A0': '      7.12 > 2.0 ✔',\n",
       "  'P+': '2.863 within ±5% of 2.863 ✔',\n",
       "  'P-': '2.846 within ±5% of 2.863 ✔',\n",
       "  'Sf': '    0.1773 < 0.05 * 2.863  X',\n",
       "  'Sa': '    0.0285 < 0.20 ✔'},\n",
       " 'Pass List': {'Window Length Freq.': True,\n",
       "  'Significant Cycles': True,\n",
       "  'Low Curve StDev. over time': True,\n",
       "  'Peak Freq. Clarity Below': True,\n",
       "  'Peak Freq. Clarity Above': True,\n",
       "  'Peak Amp. Clarity': True,\n",
       "  'Freq. Stability': True,\n",
       "  'Peak Stability (freq. std)': False,\n",
       "  'Peak Stability (amp. std)': True},\n",
       " 'Peak Passes': True}"
      ]
     },
     "execution_count": 22,
     "metadata": {},
     "output_type": "execute_result"
    }
   ],
   "source": [
    "hvsr_dict['Best Peak']"
   ]
  }
 ],
 "metadata": {
  "kernelspec": {
   "display_name": "seismic38",
   "language": "python",
   "name": "python3"
  },
  "language_info": {
   "codemirror_mode": {
    "name": "ipython",
    "version": 3
   },
   "file_extension": ".py",
   "mimetype": "text/x-python",
   "name": "python",
   "nbconvert_exporter": "python",
   "pygments_lexer": "ipython3",
   "version": "3.10.10"
  },
  "orig_nbformat": 4,
  "vscode": {
   "interpreter": {
    "hash": "5a23f0a09994861bb85a8bc9d7d34ce71e76c038972bbf50ab0da82ee5046d01"
   }
  }
 },
 "nbformat": 4,
 "nbformat_minor": 2
}
