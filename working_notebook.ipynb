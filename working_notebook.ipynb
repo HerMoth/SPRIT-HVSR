{
 "cells": [
  {
   "attachments": {},
   "cell_type": "markdown",
   "metadata": {},
   "source": [
    "This is the setup cell"
   ]
  },
  {
   "cell_type": "code",
   "execution_count": 2,
   "metadata": {},
   "outputs": [],
   "source": [
    "import datetime\n",
    "import pathlib\n",
    "import time\n",
    "import math\n",
    "\n",
    "import obspy\n",
    "from obspy.signal import PPSD\n",
    "import scipy\n",
    "import matplotlib.pyplot as plt\n",
    "import matplotlib\n",
    "#Run this line if you want interactive plots\n",
    "%matplotlib qt\n",
    "import numpy as np\n",
    "\n",
    "import sprit"
   ]
  },
  {
   "cell_type": "code",
   "execution_count": 2,
   "metadata": {},
   "outputs": [
    {
     "data": {
      "text/plain": [
       "['GTK3Agg',\n",
       " 'GTK3Cairo',\n",
       " 'GTK4Agg',\n",
       " 'GTK4Cairo',\n",
       " 'MacOSX',\n",
       " 'nbAgg',\n",
       " 'QtAgg',\n",
       " 'QtCairo',\n",
       " 'Qt5Agg',\n",
       " 'Qt5Cairo',\n",
       " 'TkAgg',\n",
       " 'TkCairo',\n",
       " 'WebAgg',\n",
       " 'WX',\n",
       " 'WXAgg',\n",
       " 'WXCairo']"
      ]
     },
     "execution_count": 2,
     "metadata": {},
     "output_type": "execute_result"
    }
   ],
   "source": [
    "import matplotlib\n",
    "matplotlib.rcsetup.interactive_bk"
   ]
  },
  {
   "cell_type": "code",
   "execution_count": 3,
   "metadata": {},
   "outputs": [
    {
     "name": "stdout",
     "output_type": "stream",
     "text": [
      "No metadata file specified!\n",
      "Using default metadata file for Raspberry Shake v.7 contained in repository at\n",
      " c:/Users/riley/LocalData/Github/SPRIT/resources/raspshake_metadata.inv\n"
     ]
    }
   ],
   "source": [
    "dPath = r'\\\\isgs-sinkhole.ad.uillinois.edu\\geophysics\\HVSR\\LakeCalumet\\LC_RaspShake'\n",
    "#dPath = r'\\\\isgs-sinkhole.ad.uillinois.edu\\geophysics\\HVSR\\LakeCalumet\\LC_RaspShake\\Test12_AM.RAC84.00.2023-02-15_2132-2200.mseed'\n",
    "trimDir = r'\\\\isgs-sinkhole.ad.uillinois.edu\\geophysics\\HVSR\\LakeCalumet\\LC_RaspShake'\n",
    "#dPath = r\"\\\\isgs-sinkhole.ad.uillinois.edu\\geophysics\\HVSR\\ChampaignCo\\Mahomet2023\\Data\\RawData\"\n",
    "dPath = r\"C:\\Users\\riley\\OneDrive - University of Illinois - Urbana\\Data_OneDrive\\Seismic\\HVSR\\Data\\RAC84\"\n",
    "dPath = r\"C:\\Users\\riley\\OneDrive - University of Illinois - Urbana\\Data_OneDrive\\Seismic\\HVSR\\Data\\UOFI1_AM.RAC84.00.2023-02-15_1704-1734.mseed\"\n",
    "\n",
    "params = sprit.input_param( acq_date='2023-02-06',\n",
    "                            #starttime = obspy.UTCDateTime('2023-02-06T21:32:00.00'),\n",
    "                            #endtime = obspy.UTCDateTime('2023-02-06T22:00:00.00'),\n",
    "                            tzone = 'UTC',#or 'local', #or 'UTC'\n",
    "                            dst=False,\n",
    "                            lon = -88.2290526,\n",
    "                            lat =  40.1012122,\n",
    "                            elevation = 755,\n",
    "                            site = 'HVSR Site',\n",
    "                            dataPath = dPath\n",
    "                            )"
   ]
  },
  {
   "cell_type": "code",
   "execution_count": 4,
   "metadata": {},
   "outputs": [
    {
     "name": "stdout",
     "output_type": "stream",
     "text": [
      "Day of Year: 37\n"
     ]
    },
    {
     "name": "stderr",
     "output_type": "stream",
     "text": [
      "c:\\Users\\riley\\anaconda3\\envs\\seismic39\\lib\\site-packages\\obspy\\core\\inventory\\network.py:251: UserWarning: Found more than one matching response. Returning first.\n",
      "  warnings.warn(msg)\n"
     ]
    }
   ],
   "source": [
    "params = sprit.get_metadata(params)\n",
    "params = sprit.fetch_data(params=params, source='raw')"
   ]
  },
  {
   "cell_type": "code",
   "execution_count": 5,
   "metadata": {},
   "outputs": [
    {
     "name": "stderr",
     "output_type": "stream",
     "text": [
      "c:\\Users\\riley\\anaconda3\\envs\\seismic39\\lib\\site-packages\\obspy\\signal\\trigger.py:183: UserWarning: Warning: converting a masked element to nan.\n",
      "  data = np.ascontiguousarray(data, dtype=np.float64)\n"
     ]
    }
   ],
   "source": [
    "params = sprit.remove_noise(input=params, kind='manual')\n",
    "params = sprit.remove_noise(input=params, kind='auto', noise_percent = 0.9, show_windows=False)"
   ]
  },
  {
   "cell_type": "code",
   "execution_count": 6,
   "metadata": {},
   "outputs": [],
   "source": [
    "params = sprit.generate_ppsds(params=params, stream=params['stream'], ppsd_length=60, \n",
    "                              overlap=0.5, period_step_octaves=0.01, remove_outliers=True, outlier_std=1.5)"
   ]
  },
  {
   "cell_type": "code",
   "execution_count": 7,
   "metadata": {},
   "outputs": [
    {
     "name": "stdout",
     "output_type": "stream",
     "text": [
      "No frequency smoothing is being applied. This is not recommended for noisy datasets.\n"
     ]
    }
   ],
   "source": [
    "hvsr_dict = sprit.process_hvsr(params=params, method=4, resample=True, smooth=3, freq_smooth=False, f_smooth_width=10, remove_outlier_curves=True)\n",
    "hvsr_dict = sprit.check_peaks(hvsr_dict=hvsr_dict)"
   ]
  },
  {
   "cell_type": "code",
   "execution_count": 8,
   "metadata": {},
   "outputs": [],
   "source": [
    "sprit.hvplot(hvsr_dict, kind='hvsr p t ann spec', cmap='turbo')"
   ]
  }
 ],
 "metadata": {
  "kernelspec": {
   "display_name": "seismic38",
   "language": "python",
   "name": "python3"
  },
  "language_info": {
   "codemirror_mode": {
    "name": "ipython",
    "version": 3
   },
   "file_extension": ".py",
   "mimetype": "text/x-python",
   "name": "python",
   "nbconvert_exporter": "python",
   "pygments_lexer": "ipython3",
   "version": "3.9.16"
  },
  "orig_nbformat": 4,
  "vscode": {
   "interpreter": {
    "hash": "5a23f0a09994861bb85a8bc9d7d34ce71e76c038972bbf50ab0da82ee5046d01"
   }
  }
 },
 "nbformat": 4,
 "nbformat_minor": 2
}
