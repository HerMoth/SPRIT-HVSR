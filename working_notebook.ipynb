{
 "cells": [
  {
   "attachments": {},
   "cell_type": "markdown",
   "metadata": {},
   "source": [
    "This is the setup cell"
   ]
  },
  {
   "cell_type": "code",
   "execution_count": 1,
   "metadata": {},
   "outputs": [],
   "source": [
    "import datetime\n",
    "import pathlib\n",
    "import time\n",
    "import math\n",
    "\n",
    "import obspy\n",
    "from obspy.signal import PPSD\n",
    "import scipy\n",
    "import matplotlib.pyplot as plt\n",
    "\n",
    "#Run this line if you want interactive plots\n",
    "%matplotlib qt\n",
    "\n",
    "import numpy as np\n",
    "\n",
    "import sprit"
   ]
  },
  {
   "cell_type": "code",
   "execution_count": 2,
   "metadata": {},
   "outputs": [],
   "source": [
    "#sprit.gui()"
   ]
  },
  {
   "cell_type": "code",
   "execution_count": 3,
   "metadata": {},
   "outputs": [
    {
     "name": "stdout",
     "output_type": "stream",
     "text": [
      "No metadata file specified!\n",
      "Using default metadata file for Raspberry Shake v.7 contained in repository at\n",
      " c:/Users/riley/LocalData/Github/SPRIT/resources/raspshake_metadata.inv\n"
     ]
    }
   ],
   "source": [
    "dPath = r'\\\\isgs-sinkhole.ad.uillinois.edu\\geophysics\\HVSR\\LakeCalumet\\LC_RaspShake'\n",
    "#dPath = r'\\\\isgs-sinkhole.ad.uillinois.edu\\geophysics\\HVSR\\LakeCalumet\\LC_RaspShake\\Test12_AM.RAC84.00.2023-02-15_2132-2200.mseed'\n",
    "trimDir = r'\\\\isgs-sinkhole.ad.uillinois.edu\\geophysics\\HVSR\\LakeCalumet\\LC_RaspShake'\n",
    "#dPath = r\"\\\\isgs-sinkhole.ad.uillinois.edu\\geophysics\\HVSR\\ChampaignCo\\Mahomet2023\\Data\\RawData\"\n",
    "#dPath = r\"C:\\Users\\riley\\OneDrive - University of Illinois - Urbana\\Data_OneDrive\\Seismic\\HVSR\\Data\\RAC84\"\n",
    "dPath = r\"C:\\Users\\riley\\OneDrive - University of Illinois - Urbana\\Data_OneDrive\\Seismic\\HVSR\\Data\\UOFI1_AM.RAC84.00.2023-02-15_1704-1734.mseed\"\n",
    "#dPath = r\"\\\\isgs-sinkhole.ad.uillinois.edu\\geophysics\\HVSR\\LakeCalumet\\LC_RaspShake\\Test_AM.RAC84.00.2023-02-15_2132-2200.mseed\"\n",
    "\n",
    "params = sprit.input_params( acq_date='2023-02-15',\n",
    "                            #starttime = obspy.UTCDateTime('2023-02-06T21:32:00.00'),\n",
    "                            #endtime = obspy.UTCDateTime('2023-02-06T22:00:00.00'),\n",
    "                            tzone = 'UTC',#or 'local', #or 'UTC'\n",
    "                            dst=False,\n",
    "                            lon = -88.2290526,\n",
    "                            lat =  40.1012122,\n",
    "                            elevation = 755,\n",
    "                            site = 'HVSR Site',\n",
    "                            dataPath = dPath\n",
    "                            )"
   ]
  },
  {
   "cell_type": "code",
   "execution_count": 4,
   "metadata": {},
   "outputs": [
    {
     "name": "stderr",
     "output_type": "stream",
     "text": [
      "c:\\Users\\riley\\LocalData\\virtual_envs\\seismic310_venv\\lib\\site-packages\\obspy\\core\\inventory\\network.py:251: UserWarning: Found more than one matching response. Returning first.\n",
      "  warnings.warn(msg)\n"
     ]
    }
   ],
   "source": [
    "params = sprit.get_metadata(params)\n",
    "params = sprit.fetch_data(params=params, source='file')"
   ]
  },
  {
   "cell_type": "code",
   "execution_count": 5,
   "metadata": {},
   "outputs": [
    {
     "name": "stdout",
     "output_type": "stream",
     "text": [
      "[    9  2769  2818 72816 72819 72831 72835 72836 72847 72884]\n",
      "(132152,)\n",
      "(132142,)\n",
      "no windows 10\n",
      "<class 'dict'>\n"
     ]
    },
    {
     "data": {
      "text/plain": [
       "(<Figure size 640x480 with 4 Axes>,\n",
       " {'spec': <Axes: label='spec', ylabel=\"Spectrogram: ['Z']\">,\n",
       "  'signalz': <Axes: label='signalz', ylabel='Z'>,\n",
       "  'signaln': <Axes: label='signaln', ylabel='N'>,\n",
       "  'signale': <Axes: label='signale', xlabel='UTC Time \\n2023-2-15', ylabel='E'>})"
      ]
     },
     "execution_count": 5,
     "metadata": {},
     "output_type": "execute_result"
    }
   ],
   "source": [
    "params = sprit.select_windows(params)\n",
    "params = sprit.remove_noise(params, kind='saturation', sat_percent=0.7, min_win_size=0)\n",
    "sprit.show_removed_windows(params, fig=params['fig'], ax=params['ax'])"
   ]
  },
  {
   "cell_type": "code",
   "execution_count": 41,
   "metadata": {},
   "outputs": [
    {
     "data": {
      "text/plain": [
       "3 Trace(s) in Stream:\n",
       "AM.RAC84.00.EHE | 2023-02-15T17:11:58.590000Z - 2023-02-15T17:34:00.000000Z | 100.0 Hz, 132142 samples\n",
       "AM.RAC84.00.EHN | 2023-02-15T17:11:58.590000Z - 2023-02-15T17:34:00.000000Z | 100.0 Hz, 132142 samples\n",
       "AM.RAC84.00.EHZ | 2023-02-15T17:11:58.590000Z - 2023-02-15T17:34:00.000000Z | 100.0 Hz, 132142 samples"
      ]
     },
     "execution_count": 41,
     "metadata": {},
     "output_type": "execute_result"
    }
   ],
   "source": [
    "#Helper function for removing gaps\n",
    "def __remove_gaps(stream, window_gaps_obspy):\n",
    "    \"\"\"Helper function for removing gaps\n",
    "    stream : obspy.Stream\n",
    "        Obspy stream with 3 traces\n",
    "    window_gaps_obspy : list\n",
    "        List of two-item lists as such: [[stream_start, stream_start], [gap1_start, gap1_end],[gap2_start, gap2_end], ..., [stream_end, stream_end]]\n",
    "        Note that the list is buffered on the start and end with the start and end times of the stream itself\n",
    "    \n",
    "    \"\"\"\n",
    "\n",
    "    #combine overlapping windows\n",
    "    #Not sure if this part works yet\n",
    "    overlapList = []\n",
    "    for i in range(len(window_gaps_obspy)-2):\n",
    "        if window_gaps_obspy[i][1] > window_gaps_obspy[i+1][0]:\n",
    "            overlapList.append(i)\n",
    "\n",
    "    for i in overlapList:\n",
    "        if i < len(window_gaps_obspy)-2:\n",
    "            window_gaps_obspy[i][1] = window_gaps_obspy[i+1][1]\n",
    "            window_gaps_obspy.pop(i+1)\n",
    "\n",
    "    #Add streams\n",
    "    window_gaps_s = []\n",
    "    for w, win in enumerate(window_gaps_obspy):\n",
    "        if w == 0:\n",
    "            pass\n",
    "        elif w == len(window_gaps_obspy)-1:\n",
    "            pass\n",
    "        else:\n",
    "            window_gaps_s.append(win[1]-win[0])\n",
    "\n",
    "    if len(window_gaps_s) > 0:\n",
    "        stream_windows = []\n",
    "        j = 0\n",
    "        for i, window in enumerate(window_gaps_s):\n",
    "            j=i\n",
    "            newSt = stream.copy()\n",
    "            stream_windows.append(newSt.trim(starttime=window_gaps_obspy[i][1], endtime=window_gaps_obspy[i+1][0]))\n",
    "        i = j + 1\n",
    "        newSt = stream.copy()\n",
    "        stream_windows.append(newSt.trim(starttime=window_gaps_obspy[i][1], endtime=window_gaps_obspy[i+1][0]))\n",
    "\n",
    "        for i, st in enumerate(stream_windows):\n",
    "            if i == 0:\n",
    "                outStream = st.copy()\n",
    "            else:\n",
    "                newSt = st.copy()\n",
    "                gap = window_gaps_s[i-1]\n",
    "                outStream = outStream + newSt.trim(starttime=st[0].stats.starttime - gap, pad=True, fill_value=None)       \n",
    "        outStream.merge()\n",
    "    else:\n",
    "        outStream = stream.copy()\n",
    "\n",
    "    return outStream\n",
    "\n",
    "#Remove noise saturation\n",
    "def __remove_noise_saturate(stream, sat_percent, min_win_size):\n",
    "    if sat_percent > 1:\n",
    "        sat_percent = sat_percent / 100\n",
    "\n",
    "    removeInd = np.array([], dtype=int)\n",
    "    for trace in stream:\n",
    "        dataArr = trace.data.copy()\n",
    "\n",
    "        sample_rate = trace.stats.delta\n",
    "\n",
    "        #Get max amplitude value\n",
    "        maxAmp = np.max(np.absolute(dataArr, where = not None))\n",
    "        thresholdAmp = maxAmp * sat_percent\n",
    "        cond = np.nonzero(np.absolute(dataArr, where=not None) > thresholdAmp)[0]\n",
    "        removeInd = np.hstack([removeInd, cond])\n",
    "        #trace.data = np.ma.where(np.absolute(data, where = not None) > (noise_percent * maxAmp), None, data)\n",
    "    #Combine indices from all three traces\n",
    "    removeInd = np.unique(removeInd)\n",
    "    \n",
    "    removeList = []  # initialize\n",
    "    min_win_samples = int(min_win_size / sample_rate)\n",
    "\n",
    "    if len(removeInd) > 0:\n",
    "        startInd = removeInd[0]\n",
    "        endInd = removeInd[0]\n",
    "\n",
    "        for i in range(0, len(removeInd)):             \n",
    "            if removeInd[i] - removeInd[i-1] > 1:\n",
    "                startInd = removeInd[i]\n",
    "            endInd = removeInd[i]\n",
    "\n",
    "            if endInd - startInd >= min_win_samples:\n",
    "                removeList.append([int(startInd), int(endInd)])\n",
    "\n",
    "    removeList.append([-1, -1]) #figure out a way to get rid of this\n",
    "    #print(removeList)\n",
    "\n",
    "    #Convert removeList from samples to seconds after start to UTCDateTime\n",
    "    sampleRate = stream[0].stats.delta\n",
    "    startT = stream[0].stats.starttime\n",
    "    endT = stream[0].stats.endtime\n",
    "    removeSec = []\n",
    "    removeUTC = []\n",
    "    for i, win in enumerate(removeList):\n",
    "        removeSec.append(list(np.round(sampleRate * np.array(win),6)))\n",
    "        removeUTC.append(list(np.add(startT, removeSec[i])))\n",
    "    removeUTC[-1][0] = removeUTC[-1][1] = endT\n",
    "    \n",
    "    outstream  = __remove_gaps(stream, removeUTC)\n",
    "\n",
    "    return outstream\n",
    "\n",
    "__remove_noise_saturate(stream=params['stream'], sat_percent=0.95, min_win_size=0)"
   ]
  },
  {
   "cell_type": "code",
   "execution_count": 5,
   "metadata": {},
   "outputs": [
    {
     "name": "stdout",
     "output_type": "stream",
     "text": [
      "0\n"
     ]
    }
   ],
   "source": [
    "params=sprit.remove_noise(input=params, kind='noise', lta=30, min_win_size=1, noise_percent=0.5)"
   ]
  },
  {
   "cell_type": "code",
   "execution_count": 8,
   "metadata": {},
   "outputs": [],
   "source": [
    "sprit.show_removed_windows(input=params,time_type='samples')"
   ]
  },
  {
   "cell_type": "code",
   "execution_count": null,
   "metadata": {},
   "outputs": [],
   "source": []
  },
  {
   "cell_type": "code",
   "execution_count": 17,
   "metadata": {},
   "outputs": [
    {
     "data": {
      "text/plain": [
       "(0.0, 175794.0)"
      ]
     },
     "execution_count": 17,
     "metadata": {},
     "output_type": "execute_result"
    },
    {
     "data": {
      "image/png": "[encoded data removed]",
      "text/plain": [
       "<Figure size 640x480 with 1 Axes>"
      ]
     },
     "metadata": {},
     "output_type": "display_data"
    }
   ],
   "source": [
    "fig, ax = plt.subplots(nrows=1, sharex=True)\n",
    "x = np.arange(params['stream'][0].stats.npts)\n",
    "y = x**0.5\n",
    "ax.plot(x, y)\n",
    "\n",
    "sprit.show_removed_windows(input=params, fig=fig, ax=ax, time_type='samples')\n",
    "ax.set_xlim([0, params['stream'][0].stats.npts])"
   ]
  },
  {
   "cell_type": "code",
   "execution_count": 59,
   "metadata": {},
   "outputs": [],
   "source": [
    "testTrace = params['stream'][0].copy()\n",
    "windows = []\n",
    "windows.append([0,np.nan])\n",
    "\n",
    "lastMaskInd = -1\n",
    "wInd = 0\n",
    "masked_array = testTrace.data.mask.nonzero()[0]\n",
    "for i, maskInd in enumerate(masked_array):\n",
    "    if maskInd-lastMaskInd != 1:\n",
    "        windows.append([np.nan, np.nan])\n",
    "        windows[wInd][1] = masked_array[i - 1]\n",
    "        wInd += 1\n",
    "        windows[wInd][0] = masked_array[i]\n",
    "\n",
    "    lastMaskInd = maskInd    \n",
    "windows[wInd][1] = masked_array[-1]"
   ]
  },
  {
   "cell_type": "code",
   "execution_count": 13,
   "metadata": {},
   "outputs": [
    {
     "name": "stdout",
     "output_type": "stream",
     "text": [
      "175793.0\n",
      "175794\n"
     ]
    }
   ],
   "source": [
    "print(float(params['stream'][0].stats.endtime - params['stream'][0].stats.starttime) / params['stream'][0].stats.delta)\n",
    "print(params['stream'][0].stats.npts)"
   ]
  },
  {
   "cell_type": "code",
   "execution_count": null,
   "metadata": {},
   "outputs": [
    {
     "name": "stderr",
     "output_type": "stream",
     "text": [
      "c:\\ProgramData\\Anaconda3\\envs\\seismic39\\lib\\site-packages\\obspy\\signal\\trigger.py:183: UserWarning: Warning: converting a masked element to nan.\n",
      "  data = np.ascontiguousarray(data, dtype=np.float64)\n"
     ]
    }
   ],
   "source": [
    "params = sprit.remove_noise(input=params, kind='auto')"
   ]
  },
  {
   "cell_type": "code",
   "execution_count": 9,
   "metadata": {},
   "outputs": [],
   "source": [
    "params = sprit.generate_ppsds(params=params, stream=params['stream'], ppsd_length=60, \n",
    "                              overlap=0.5, period_step_octaves=0.01, remove_outliers=True, outlier_std=1.5)"
   ]
  },
  {
   "cell_type": "code",
   "execution_count": 10,
   "metadata": {},
   "outputs": [],
   "source": [
    "hvsr_dict = sprit.process_hvsr(params=params, method=4, resample=True, smooth=3, remove_outlier_curves=True)\n",
    "hvsr_dict = sprit.check_peaks(hvsr_dict=hvsr_dict)"
   ]
  },
  {
   "cell_type": "code",
   "execution_count": 9,
   "metadata": {},
   "outputs": [],
   "source": [
    "sprit.hvplot(hvsr_dict, kind='hvsr p tp ann', cmap='turbo')"
   ]
  },
  {
   "cell_type": "code",
   "execution_count": 15,
   "metadata": {},
   "outputs": [
    {
     "data": {
      "text/plain": [
       "{'Lw': '2.846 > 10 / 60  ✔',\n",
       " 'Nc': '8878.0 > 200  ✔',\n",
       " 'σ_A(f)': 'σ_A for all freqs 1.423-5.691 < 2  ✔',\n",
       " 'A(f-)': 'A(0.716): 1.812 < 3.68  ✔',\n",
       " 'A(f+)': 'A(11.311): 1.69 < 3.68  ✔',\n",
       " 'A0': '      7.36 > 2.0 ✔',\n",
       " 'P+': '2.863 within ±5% of 2.846 ✔',\n",
       " 'P-': '2.846 within ±5% of 2.846 ✔',\n",
       " 'Sf': '    0.1259 < 0.05 * 2.846 ✔',\n",
       " 'Sa': '    0.0229 < 0.20 ✔'}"
      ]
     },
     "execution_count": 15,
     "metadata": {},
     "output_type": "execute_result"
    }
   ],
   "source": [
    "hvsr_dict['Best Peak']['Report']"
   ]
  },
  {
   "cell_type": "code",
   "execution_count": 14,
   "metadata": {},
   "outputs": [
    {
     "data": {
      "text/plain": [
       "{'Window Length Freq.': True,\n",
       " 'Significant Cycles': True,\n",
       " 'Low Curve StDev. over time': True,\n",
       " 'Peak Freq. Clarity Below': True,\n",
       " 'Peak Freq. Clarity Above': True,\n",
       " 'Peak Amp. Clarity': True,\n",
       " 'Freq. Stability': True,\n",
       " 'Peak Stability (freq. std)': True,\n",
       " 'Peak Stability (amp. std)': True}"
      ]
     },
     "execution_count": 14,
     "metadata": {},
     "output_type": "execute_result"
    }
   ],
   "source": [
    "hvsr_dict['Best Peak']['Pass List']\n"
   ]
  },
  {
   "cell_type": "code",
   "execution_count": 10,
   "metadata": {},
   "outputs": [
    {
     "name": "stdout",
     "output_type": "stream",
     "text": [
      "\\\\isgs-sinkhole.ad.uillinois.edu\\geophysics\\HVSR\\LakeCalumet\\LC_RaspShake\\Test_AM.RAC84.00.2023-02-15_2132-2200.csv\n"
     ]
    },
    {
     "data": {
      "text/html": [
       "<div>\n",
       "<style scoped>\n",
       "    .dataframe tbody tr th:only-of-type {\n",
       "        vertical-align: middle;\n",
       "    }\n",
       "\n",
       "    .dataframe tbody tr th {\n",
       "        vertical-align: top;\n",
       "    }\n",
       "\n",
       "    .dataframe thead th {\n",
       "        text-align: right;\n",
       "    }\n",
       "</style>\n",
       "<table border=\"1\" class=\"dataframe\">\n",
       "  <thead>\n",
       "    <tr style=\"text-align: right;\">\n",
       "      <th></th>\n",
       "      <th>Site Name</th>\n",
       "      <th>Acqusition Date</th>\n",
       "      <th>Longitude</th>\n",
       "      <th>Latitide</th>\n",
       "      <th>Elevation</th>\n",
       "      <th>Peak Frequency</th>\n",
       "      <th>Window Length Freq.</th>\n",
       "      <th>Significant Cycles</th>\n",
       "      <th>Low Curve StDev. over time</th>\n",
       "      <th>Peak Freq. Clarity Below</th>\n",
       "      <th>Peak Freq. Clarity Above</th>\n",
       "      <th>Peak Amp. Clarity</th>\n",
       "      <th>Freq. Stability</th>\n",
       "      <th>Peak Stability (freq. std)</th>\n",
       "      <th>Peak Stability (amp. std)</th>\n",
       "      <th>Peak Passes</th>\n",
       "    </tr>\n",
       "  </thead>\n",
       "  <tbody>\n",
       "    <tr>\n",
       "      <th>0</th>\n",
       "      <td>HVSR Site</td>\n",
       "      <td>2023-02-15</td>\n",
       "      <td>-88.229053</td>\n",
       "      <td>40.101212</td>\n",
       "      <td>755</td>\n",
       "      <td>2.863</td>\n",
       "      <td>True</td>\n",
       "      <td>True</td>\n",
       "      <td>True</td>\n",
       "      <td>True</td>\n",
       "      <td>True</td>\n",
       "      <td>True</td>\n",
       "      <td>True</td>\n",
       "      <td>False</td>\n",
       "      <td>True</td>\n",
       "      <td>True</td>\n",
       "    </tr>\n",
       "  </tbody>\n",
       "</table>\n",
       "</div>"
      ],
      "text/plain": [
       "   Site Name Acqusition Date  Longitude   Latitide  Elevation  Peak Frequency  \\\n",
       "0  HVSR Site      2023-02-15 -88.229053  40.101212        755           2.863   \n",
       "\n",
       "   Window Length Freq.  Significant Cycles  Low Curve StDev. over time  \\\n",
       "0                 True                True                        True   \n",
       "\n",
       "   Peak Freq. Clarity Below  Peak Freq. Clarity Above  Peak Amp. Clarity  \\\n",
       "0                      True                      True               True   \n",
       "\n",
       "   Freq. Stability  Peak Stability (freq. std)  Peak Stability (amp. std)  \\\n",
       "0             True                       False                       True   \n",
       "\n",
       "   Peak Passes  \n",
       "0         True  "
      ]
     },
     "execution_count": 10,
     "metadata": {},
     "output_type": "execute_result"
    }
   ],
   "source": [
    "outDF = sprit.print_report(hvsr_dict, export='', format='csv', include='peak', save_figs=None)\n",
    "outDF"
   ]
  }
 ],
 "metadata": {
  "kernelspec": {
   "display_name": "seismic38",
   "language": "python",
   "name": "python3"
  },
  "language_info": {
   "codemirror_mode": {
    "name": "ipython",
    "version": 3
   },
   "file_extension": ".py",
   "mimetype": "text/x-python",
   "name": "python",
   "nbconvert_exporter": "python",
   "pygments_lexer": "ipython3",
   "version": "3.10.11"
  },
  "orig_nbformat": 4,
  "vscode": {
   "interpreter": {
    "hash": "5a23f0a09994861bb85a8bc9d7d34ce71e76c038972bbf50ab0da82ee5046d01"
   }
  }
 },
 "nbformat": 4,
 "nbformat_minor": 2
}
