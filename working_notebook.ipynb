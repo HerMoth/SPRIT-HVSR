{
 "cells": [
  {
   "attachments": {},
   "cell_type": "markdown",
   "metadata": {},
   "source": [
    "This is the setup cell"
   ]
  },
  {
   "cell_type": "code",
   "execution_count": 1,
   "metadata": {},
   "outputs": [],
   "source": [
    "import datetime\n",
    "import pathlib\n",
    "import time\n",
    "import math\n",
    "\n",
    "import obspy\n",
    "from obspy.signal import PPSD\n",
    "import scipy\n",
    "import matplotlib.pyplot as plt\n",
    "\n",
    "#Run this line if you want interactive plots\n",
    "%matplotlib qt\n",
    "\n",
    "import numpy as np\n",
    "\n",
    "import sprit"
   ]
  },
  {
   "cell_type": "code",
   "execution_count": 2,
   "metadata": {},
   "outputs": [
    {
     "name": "stdout",
     "output_type": "stream",
     "text": [
      "No metadata file specified!\n",
      "Using default metadata file for Raspberry Shake v.7 contained in repository at\n",
      " c:/Users/riley/LocalData/Github/SPRIT/resources/raspshake_metadata.inv\n"
     ]
    }
   ],
   "source": [
    "dPath = r'\\\\isgs-sinkhole.ad.uillinois.edu\\geophysics\\HVSR\\LakeCalumet\\LC_RaspShake'\n",
    "#dPath = r'\\\\isgs-sinkhole.ad.uillinois.edu\\geophysics\\HVSR\\LakeCalumet\\LC_RaspShake\\Test12_AM.RAC84.00.2023-02-15_2132-2200.mseed'\n",
    "trimDir = r'\\\\isgs-sinkhole.ad.uillinois.edu\\geophysics\\HVSR\\LakeCalumet\\LC_RaspShake'\n",
    "#dPath = r\"\\\\isgs-sinkhole.ad.uillinois.edu\\geophysics\\HVSR\\ChampaignCo\\Mahomet2023\\Data\\RawData\"\n",
    "dPath = r\"C:\\Users\\riley\\OneDrive - University of Illinois - Urbana\\Data_OneDrive\\Seismic\\HVSR\\Data\\RAC84\"\n",
    "#dPath = r\"C:\\Users\\riley\\OneDrive - University of Illinois - Urbana\\Data_OneDrive\\Seismic\\HVSR\\Data\\UOFI1_AM.RAC84.00.2023-02-15_1704-1734.mseed\"\n",
    "\n",
    "params = sprit.input_param( acq_date='2023-02-06',\n",
    "                            #starttime = obspy.UTCDateTime('2023-02-06T21:32:00.00'),\n",
    "                            #endtime = obspy.UTCDateTime('2023-02-06T22:00:00.00'),\n",
    "                            tzone = 'UTC',#or 'local', #or 'UTC'\n",
    "                            dst=False,\n",
    "                            lon = -88.2290526,\n",
    "                            lat =  40.1012122,\n",
    "                            elevation = 755,\n",
    "                            site = 'HVSR Site',\n",
    "                            dataPath = dPath\n",
    "                            )"
   ]
  },
  {
   "cell_type": "code",
   "execution_count": 3,
   "metadata": {},
   "outputs": [
    {
     "name": "stdout",
     "output_type": "stream",
     "text": [
      "Day of Year: 37\n",
      "Reading files: \n",
      "\tAM.RAC84.00.EHE.D.2023.037\n",
      "\tAM.RAC84.00.EHN.D.2023.037\n",
      "\tAM.RAC84.00.EHZ.D.2023.037\n"
     ]
    },
    {
     "name": "stderr",
     "output_type": "stream",
     "text": [
      "c:\\ProgramData\\Anaconda3\\envs\\seismic39\\lib\\site-packages\\obspy\\core\\stream.py:3197: UserWarning: No matching response information found.\n",
      "  warnings.warn(str(e))\n"
     ]
    }
   ],
   "source": [
    "params = sprit.get_metadata(params)\n",
    "stream = sprit.fetch_data(params=params)"
   ]
  },
  {
   "cell_type": "code",
   "execution_count": 4,
   "metadata": {},
   "outputs": [],
   "source": [
    "xwindows = sprit.select_windows(stream)"
   ]
  },
  {
   "cell_type": "code",
   "execution_count": 6,
   "metadata": {},
   "outputs": [],
   "source": [
    "stream = sprit.remove_noise(stream, kind='manual', window_list=xwindows)"
   ]
  },
  {
   "cell_type": "code",
   "execution_count": 7,
   "metadata": {},
   "outputs": [],
   "source": [
    "ppsdsData = sprit.generate_ppsds(params=params, stream=stream, ppsd_length=60, overlap=0.5, period_step_octaves=0.01, remove_outliers=True)"
   ]
  },
  {
   "cell_type": "code",
   "execution_count": 8,
   "metadata": {},
   "outputs": [
    {
     "name": "stdout",
     "output_type": "stream",
     "text": [
      "No Best Peak identified\n"
     ]
    }
   ],
   "source": [
    "hvsr_dict = sprit.process_hvsr(params=ppsdsData, method=4, resample=False, smooth=10)\n",
    "hvsr_dict = sprit.check_peaks(hvsr_dict=hvsr_dict)"
   ]
  },
  {
   "cell_type": "code",
   "execution_count": 25,
   "metadata": {},
   "outputs": [
    {
     "name": "stdout",
     "output_type": "stream",
     "text": [
      "-3076.527 get rid of it\n",
      "-3076.527 get rid of it\n",
      "-3076.527 get rid of it\n",
      "-3076.527 get rid of it\n",
      "-3076.527 get rid of it\n",
      "-3076.527 get rid of it\n",
      "-3076.527 get rid of it\n",
      "-3076.527 get rid of it\n",
      "-3076.527 get rid of it\n",
      "(52, 901)\n",
      "(52,)\n",
      "(49, 901)\n",
      "(49,)\n"
     ]
    }
   ],
   "source": [
    "#Check and remove outlier curves (this often happens when time windows are removed)\n",
    "def remove_outlier_curves(hvsr_dict):\n",
    "    #INTENTEDED TO BE USED AS PART OF GENERATE_PPSDS function\n",
    "    #RECOMMENDED TO USE OUTPUT FROM GENERATE_PPSDS!!!\n",
    "    #Input can either be raw ppsd object from obpsy, output dict from generate_ppsds, or output dict from process_hvsr\n",
    "    #    If raw ppsd object which case, they should be read in as a dictionary with 3 key/value pairs (1 per component))\n",
    "    ppsds = hvsr_dict['ppsd_dict']\n",
    "    newPPsds = {}\n",
    "    stds = {}\n",
    "    psds_to_rid = []\n",
    "\n",
    "    for k in ppsds:\n",
    "        psdVals = np.array(ppsds[k]['psd_values'])\n",
    "        meanArr = np.nanmean(psdVals, axis=1)\n",
    "        newPPsds[k] = []\n",
    "        totMean = np.nanmean(meanArr)\n",
    "        stds[k] = np.std(meanArr)\n",
    "\n",
    "        for i, m in enumerate(meanArr):\n",
    "            if m > totMean + 3*stds[k] or m < totMean - 3*stds[k]:\n",
    "                psds_to_rid.append(i)\n",
    "    psds_to_rid = np.unique(psds_to_rid)\n",
    "\n",
    "    for k in hvsr_dict['ppsd_dict']:\n",
    "        for i, r in enumerate(psds_to_rid):\n",
    "            index = int(r-1)\n",
    "            hvsr_dict['ppsd_dict'][k]['psd_values'] = np.delete(hvsr_dict['ppsd_dict'][k]['psd_values'], index, axis=0)\n",
    "            hvsr_dict['ppsd_dict'][k]['current_times_used'] = np.delete(hvsr_dict['ppsd_dict'][k]['current_times_used'], index, axis=0)\n",
    "            hvsr_dict['ppsd_dict'][k]['period_bin_centers']\n",
    "\n",
    "    return hvsr_dict\n",
    "\n",
    "hvsr_dict = remove_outlier_curves(hvsr_dict)"
   ]
  },
  {
   "cell_type": "code",
   "execution_count": null,
   "metadata": {},
   "outputs": [],
   "source": [
    "hvsr_dict"
   ]
  },
  {
   "cell_type": "code",
   "execution_count": 4,
   "metadata": {},
   "outputs": [],
   "source": [
    "xwindows = sprit.select_windows(stream)\n",
    "stream = sprit.remove_noise(stream, kind='manual', window_list=xwindows)"
   ]
  },
  {
   "cell_type": "code",
   "execution_count": 32,
   "metadata": {},
   "outputs": [
    {
     "name": "stdout",
     "output_type": "stream",
     "text": [
      "48 52\n"
     ]
    }
   ],
   "source": [
    "j=0\n",
    "k=0\n",
    "for i in hvsr_dict['psd_raw']['EHN']:\n",
    "    k+=1\n",
    "    if np.nanmedian(i) < -200:\n",
    "        pass\n",
    "    else:\n",
    "        j+=1\n",
    "        plt.plot((np.flip(i)))\n",
    "#plt.semilogy()\n",
    "plt.show()\n",
    "print(j, k)"
   ]
  },
  {
   "cell_type": "code",
   "execution_count": null,
   "metadata": {},
   "outputs": [],
   "source": [
    "period_bin_centers\n",
    "psd_values\n",
    "current_times_used"
   ]
  },
  {
   "cell_type": "code",
   "execution_count": 29,
   "metadata": {},
   "outputs": [
    {
     "data": {
      "text/plain": [
       "<obspy.signal.spectral_estimation.PPSD at 0x2278c00d220>"
      ]
     },
     "execution_count": 29,
     "metadata": {},
     "output_type": "execute_result"
    }
   ],
   "source": [
    "params['ppsds']['EHZ']"
   ]
  },
  {
   "cell_type": "code",
   "execution_count": 7,
   "metadata": {},
   "outputs": [
    {
     "ename": "UnboundLocalError",
     "evalue": "local variable 'bestPeak' referenced before assignment",
     "output_type": "error",
     "traceback": [
      "\u001b[1;31m---------------------------------------------------------------------------\u001b[0m",
      "\u001b[1;31mUnboundLocalError\u001b[0m                         Traceback (most recent call last)",
      "Cell \u001b[1;32mIn[7], line 1\u001b[0m\n\u001b[1;32m----> 1\u001b[0m sprit\u001b[39m.\u001b[39;49mhvplot(hvsr_dict, kind\u001b[39m=\u001b[39;49m\u001b[39m'\u001b[39;49m\u001b[39mHVSR p t\u001b[39;49m\u001b[39m'\u001b[39;49m, show\u001b[39m=\u001b[39;49m\u001b[39mTrue\u001b[39;49;00m)\n",
      "File \u001b[1;32mc:\\Users\\riley\\LocalData\\Github\\SPRIT\\sprit\\sprit.py:1561\u001b[0m, in \u001b[0;36mhvplot\u001b[1;34m(hvsr_dict, kind, xtype, returnfig, save_dir, save_suffix, show, **kwargs)\u001b[0m\n\u001b[0;32m   1559\u001b[0m         fig, ax \u001b[39m=\u001b[39m __plot_specgram_hvsr(hvsr_dict,  savedir\u001b[39m=\u001b[39msave_dir, save_suffix\u001b[39m=\u001b[39msave_suffix, show\u001b[39m=\u001b[39mshow, kwargs\u001b[39m=\u001b[39mkwargs)\n\u001b[0;32m   1560\u001b[0m     \u001b[39melse\u001b[39;00m:\n\u001b[1;32m-> 1561\u001b[0m         fig, ax \u001b[39m=\u001b[39m __plot_hvsr(hvsr_dict, kind\u001b[39m=\u001b[39;49mchartStr, xtype\u001b[39m=\u001b[39;49mxtype,  savedir\u001b[39m=\u001b[39;49msave_dir, save_suffix\u001b[39m=\u001b[39;49msave_suffix, show\u001b[39m=\u001b[39;49mshow, kwargs\u001b[39m=\u001b[39;49mkwargs)\n\u001b[0;32m   1563\u001b[0m \u001b[39mif\u001b[39;00m returnfig:\n\u001b[0;32m   1564\u001b[0m     \u001b[39mreturn\u001b[39;00m fig, ax\n",
      "File \u001b[1;32mc:\\Users\\riley\\LocalData\\Github\\SPRIT\\sprit\\sprit.py:1639\u001b[0m, in \u001b[0;36m__plot_hvsr\u001b[1;34m(hvsr_dict, kind, xtype, save_dir, save_suffix, show, **kwargs)\u001b[0m\n\u001b[0;32m   1636\u001b[0m         bestPeakScore \u001b[39m=\u001b[39m p[\u001b[39m'\u001b[39m\u001b[39mScore\u001b[39m\u001b[39m'\u001b[39m]\n\u001b[0;32m   1637\u001b[0m         bestPeak \u001b[39m=\u001b[39m p\n\u001b[1;32m-> 1639\u001b[0m axis\u001b[39m.\u001b[39mvlines(bestPeak[\u001b[39m'\u001b[39m\u001b[39mf0\u001b[39m\u001b[39m'\u001b[39m], \u001b[39m0\u001b[39m, \u001b[39m50\u001b[39m, colors\u001b[39m=\u001b[39m\u001b[39m'\u001b[39m\u001b[39mk\u001b[39m\u001b[39m'\u001b[39m, linestyles\u001b[39m=\u001b[39m\u001b[39m'\u001b[39m\u001b[39mdotted\u001b[39m\u001b[39m'\u001b[39m, label\u001b[39m=\u001b[39m\u001b[39m'\u001b[39m\u001b[39mPeak\u001b[39m\u001b[39m'\u001b[39m)          \n\u001b[0;32m   1640\u001b[0m \u001b[39mif\u001b[39;00m \u001b[39m'\u001b[39m\u001b[39mann\u001b[39m\u001b[39m'\u001b[39m \u001b[39min\u001b[39;00m kind:\n\u001b[0;32m   1641\u001b[0m     axis\u001b[39m.\u001b[39mannotate(\u001b[39m'\u001b[39m\u001b[39mPeak at \u001b[39m\u001b[39m'\u001b[39m\u001b[39m+\u001b[39m\u001b[39mstr\u001b[39m(\u001b[39mround\u001b[39m(bestPeak[\u001b[39m'\u001b[39m\u001b[39mf0\u001b[39m\u001b[39m'\u001b[39m],\u001b[39m2\u001b[39m))\u001b[39m+\u001b[39m\u001b[39m'\u001b[39m\u001b[39mHz\u001b[39m\u001b[39m'\u001b[39m, (bestPeak[\u001b[39m'\u001b[39m\u001b[39mf0\u001b[39m\u001b[39m'\u001b[39m], \u001b[39m0.1\u001b[39m), xycoords\u001b[39m=\u001b[39m\u001b[39m'\u001b[39m\u001b[39mdata\u001b[39m\u001b[39m'\u001b[39m, \n\u001b[0;32m   1642\u001b[0m                     horizontalalignment\u001b[39m=\u001b[39m\u001b[39m'\u001b[39m\u001b[39mcenter\u001b[39m\u001b[39m'\u001b[39m, verticalalignment\u001b[39m=\u001b[39m\u001b[39m'\u001b[39m\u001b[39mbottom\u001b[39m\u001b[39m'\u001b[39m, \n\u001b[0;32m   1643\u001b[0m                     bbox\u001b[39m=\u001b[39m\u001b[39mdict\u001b[39m(facecolor\u001b[39m=\u001b[39m\u001b[39m'\u001b[39m\u001b[39mw\u001b[39m\u001b[39m'\u001b[39m, edgecolor\u001b[39m=\u001b[39m\u001b[39m'\u001b[39m\u001b[39mnone\u001b[39m\u001b[39m'\u001b[39m, alpha\u001b[39m=\u001b[39m\u001b[39m0.8\u001b[39m, pad\u001b[39m=\u001b[39m\u001b[39m0.1\u001b[39m))\n",
      "\u001b[1;31mUnboundLocalError\u001b[0m: local variable 'bestPeak' referenced before assignment"
     ]
    }
   ],
   "source": [
    "sprit.hvplot(hvsr_dict, kind='HVSR p t', show=True)"
   ]
  },
  {
   "cell_type": "code",
   "execution_count": 16,
   "metadata": {},
   "outputs": [],
   "source": [
    "from matplotlib.backend_bases import MouseButton\n",
    "import matplotlib.pyplot as plt\n",
    "import matplotlib\n",
    "import numpy as np\n",
    "\n",
    "#fig, ax = plt.subplots()\n",
    "\n",
    "\n",
    "fig, ax = sprit.hvplot(hvsr_dict=hvsr_dict, kind='spec', returnfig=True, cmap='turbo')\n",
    "\n",
    "clickNo = 0    \n",
    "xWindows = []\n",
    "pathList = []\n",
    "windowDrawn = []\n",
    "winArtist = []\n",
    "lineArtist = []\n",
    "\n",
    "def on_click(event, fig=fig, ax=ax):\n",
    "    if event.button is MouseButton.RIGHT:\n",
    "        remove_on_right(event)\n",
    "    if event.button is MouseButton.LEFT:\n",
    "        draw_boxes(event)\n",
    "\n",
    "def draw_boxes(event, fig=fig, ax=ax):\n",
    "    global clickNo\n",
    "    global x0\n",
    "    global xWindows\n",
    "    global pathList\n",
    "    global windowDrawn\n",
    "    global winArtist\n",
    "    global lineArtist\n",
    "\n",
    "    if event.inaxes!=ax: return\n",
    "    #y0, y1 = ax.get_ylim()\n",
    "    y0=0\n",
    "    y1=50\n",
    "    \n",
    "    if clickNo == 0:\n",
    "        #y = np.linspace(ax.get_ylim()[0], ax.get_ylim()[1], 2)\n",
    "        x0 = event.xdata\n",
    "        clickNo += 1\n",
    "        linArt = plt.axvline(x0, y0, y1, linewidth=0.5, color='k', zorder=100)\n",
    "        lineArtist.append([linArt, linArt])\n",
    "    else:\n",
    "        x1 = event.xdata\n",
    "        clickNo = 0\n",
    "\n",
    "        path_data = [\n",
    "            (matplotlib.path.Path.MOVETO, (x0, y0)),\n",
    "            (matplotlib.path.Path.LINETO, (x1, y0)),\n",
    "            (matplotlib.path.Path.LINETO, (x1, y1)),\n",
    "            (matplotlib.path.Path.LINETO, (x0, y1)),\n",
    "            (matplotlib.path.Path.LINETO, (x0, y0)),\n",
    "            (matplotlib.path.Path.CLOSEPOLY, (x0, y0)),\n",
    "        ]\n",
    "\n",
    "        codes, verts = zip(*path_data)\n",
    "        path = matplotlib.path.Path(verts, codes)\n",
    "\n",
    "        x_win = [x0, x1]\n",
    "        xWindows.append(x_win)\n",
    "        pathList.append(path)\n",
    "        windowDrawn.append(False)\n",
    "        winArtist.append(None)\n",
    "        [lineArtist[-1].pop()]\n",
    "        draw_windows(event=event, pathlist=pathList)\n",
    "        linArt = plt.axvline(x1, y0, y1, color='k',linewidth=0.5, zorder=100)\n",
    "        lineArtist[-1].append(linArt)\n",
    "    fig.canvas.draw() \n",
    "\n",
    "def draw_windows(event, pathlist, fig=fig, ax=ax):\n",
    "    for i, p in enumerate(pathList):\n",
    "        if windowDrawn[i]:\n",
    "            pass\n",
    "        else:\n",
    "            patch = matplotlib.patches.PathPatch(p, facecolor='k', alpha=0.75)\n",
    "            winArt = ax.add_patch(patch)\n",
    "            windowDrawn[i] = True\n",
    "            winArtist[i] = winArt\n",
    "    if event.button is MouseButton.RIGHT:\n",
    "        fig.canvas.draw() \n",
    "\n",
    "def remove_on_right(event, fig=fig, ax=ax, xWindows=xWindows):\n",
    "    if xWindows is not None:\n",
    "        for i, xWins in enumerate(xWindows):\n",
    "            if event.xdata > xWins[0] and event.xdata < xWins[1]:\n",
    "                xWindows.pop(i)\n",
    "                pathList.pop(i)\n",
    "                winArtist[i].remove()\n",
    "                winArtist.pop(i)\n",
    "                windowDrawn.pop(i)\n",
    "                lineArtist[i][0].remove()\n",
    "                lineArtist[i][1].remove()\n",
    "                lineArtist.pop(i)\n",
    "    fig.canvas.draw() \n",
    "    #draw_windows(event, pathlist=pathList)\n",
    "\n",
    "fig.canvas.mpl_connect('button_press_event', on_click)\n",
    "plt.show()"
   ]
  }
 ],
 "metadata": {
  "kernelspec": {
   "display_name": "seismic38",
   "language": "python",
   "name": "python3"
  },
  "language_info": {
   "codemirror_mode": {
    "name": "ipython",
    "version": 3
   },
   "file_extension": ".py",
   "mimetype": "text/x-python",
   "name": "python",
   "nbconvert_exporter": "python",
   "pygments_lexer": "ipython3",
   "version": "3.9.16"
  },
  "orig_nbformat": 4,
  "vscode": {
   "interpreter": {
    "hash": "5a23f0a09994861bb85a8bc9d7d34ce71e76c038972bbf50ab0da82ee5046d01"
   }
  }
 },
 "nbformat": 4,
 "nbformat_minor": 2
}
