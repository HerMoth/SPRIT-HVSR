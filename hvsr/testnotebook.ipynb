{
 "cells": [
  {
   "cell_type": "code",
   "execution_count": 1,
   "metadata": {},
   "outputs": [],
   "source": [
    "import os\n",
    "import sys\n",
    "import numpy as np\n",
    "\n",
    "from scipy.signal import argrelextrema\n",
    "\n",
    "import matplotlib\n",
    "\n",
    "import math\n",
    "\n",
    "import time\n",
    "import urllib\n",
    "import xml.etree.ElementTree as ET\n",
    "\n",
    "import matplotlib.pyplot as plt\n",
    "from matplotlib.offsetbox import AnchoredText\n",
    "\n",
    "import fileLib as fileLib\n",
    "import msgLib as msgLib\n",
    "import computeHVSR_param as param"
   ]
  },
  {
   "cell_type": "code",
   "execution_count": 2,
   "metadata": {},
   "outputs": [
    {
     "data": {
      "text/plain": [
       "1674621113.9738731"
      ]
     },
     "execution_count": 2,
     "metadata": {},
     "output_type": "execute_result"
    }
   ],
   "source": [
    "greek_chars = {'sigma': u'\\u03C3', 'epsilon': u'\\u03B5', 'teta': u'\\u03B8'}\n",
    "channel_order = {'Z': 0, '1': 1, 'N': 1, '2': 2, 'E': 2}\n",
    "separator_character = '='\n",
    "\n",
    "t0 = time.time()\n",
    "display = True\n",
    "max_rank = 0\n",
    "plotRows = 4"
   ]
  }
 ],
 "metadata": {
  "kernelspec": {
   "display_name": "data39",
   "language": "python",
   "name": "python3"
  },
  "language_info": {
   "codemirror_mode": {
    "name": "ipython",
    "version": 3
   },
   "file_extension": ".py",
   "mimetype": "text/x-python",
   "name": "python",
   "nbconvert_exporter": "python",
   "pygments_lexer": "ipython3",
   "version": "3.9.15"
  },
  "orig_nbformat": 4,
  "vscode": {
   "interpreter": {
    "hash": "ecb504c6a4d5923ee025caee228e95ce4f3ba46ccae70a9c83a106567c44e72f"
   }
  }
 },
 "nbformat": 4,
 "nbformat_minor": 2
}
