{
 "cells": [
  {
   "cell_type": "code",
   "execution_count": 1,
   "metadata": {},
   "outputs": [
    {
     "name": "stdout",
     "output_type": "stream",
     "text": [
      "[INFO] remove_outliers: False\n",
      "\n",
      "[ERR] missing parameter start\n",
      "\n"
     ]
    },
    {
     "ename": "SystemExit",
     "evalue": "",
     "output_type": "error",
     "traceback": [
      "An exception has occurred, use %tb to see the full traceback.\n",
      "\u001b[1;31mSystemExit\u001b[0m\n"
     ]
    },
    {
     "name": "stderr",
     "output_type": "stream",
     "text": [
      "c:\\Users\\riley\\.conda\\envs\\seismic38\\lib\\site-packages\\IPython\\core\\interactiveshell.py:3406: UserWarning: To exit: use 'exit', 'quit', or Ctrl-D.\n",
      "  warn(\"To exit: use 'exit', 'quit', or Ctrl-D.\", stacklevel=1)\n"
     ]
    }
   ],
   "source": [
    "import os\n",
    "import sys\n",
    "import numpy as np\n",
    "\n",
    "from scipy.signal import argrelextrema\n",
    "from obspy import signal\n",
    "\n",
    "import matplotlib\n",
    "\n",
    "import math\n",
    "\n",
    "import time\n",
    "import urllib\n",
    "import xml.etree.ElementTree as ET\n",
    "\n",
    "import matplotlib.pyplot as plt\n",
    "from matplotlib.offsetbox import AnchoredText\n",
    "\n",
    "#args = {'net':'AM'}\n",
    "\n",
    "import fileLib\n",
    "import msgLib\n",
    "import hvsrCalcs\n",
    "import ioput\n",
    "import powspecdens\n",
    "import readhvsr\n",
    "import setParams\n",
    "import utilities\n",
    "#import computeHVSR_main\n"
   ]
  },
  {
   "cell_type": "code",
   "execution_count": null,
   "metadata": {},
   "outputs": [],
   "source": [
    "signal.spectral_estimation.PPSD"
   ]
  },
  {
   "cell_type": "code",
   "execution_count": 2,
   "metadata": {},
   "outputs": [
    {
     "data": {
      "text/plain": [
       "1674621113.9738731"
      ]
     },
     "execution_count": 2,
     "metadata": {},
     "output_type": "execute_result"
    }
   ],
   "source": [
    "greek_chars = {'sigma': u'\\u03C3', 'epsilon': u'\\u03B5', 'teta': u'\\u03B8'}\n",
    "channel_order = {'Z': 0, '1': 1, 'N': 1, '2': 2, 'E': 2}\n",
    "separator_character = '='\n",
    "\n",
    "t0 = time.time()\n",
    "display = True\n",
    "max_rank = 0\n",
    "plotRows = 4"
   ]
  }
 ],
 "metadata": {
  "kernelspec": {
   "display_name": "seismic38",
   "language": "python",
   "name": "python3"
  },
  "language_info": {
   "codemirror_mode": {
    "name": "ipython",
    "version": 3
   },
   "file_extension": ".py",
   "mimetype": "text/x-python",
   "name": "python",
   "nbconvert_exporter": "python",
   "pygments_lexer": "ipython3",
   "version": "3.8.13"
  },
  "orig_nbformat": 4,
  "vscode": {
   "interpreter": {
    "hash": "70f8a502718fc6a95a91034ebabcb6b0a0ad9702bd97178ef0f7330fa26bcc3c"
   }
  }
 },
 "nbformat": 4,
 "nbformat_minor": 2
}
